{
 "cells": [
  {
   "cell_type": "markdown",
   "metadata": {},
   "source": [
    "# 输入与输出"
   ]
  },
  {
   "cell_type": "markdown",
   "metadata": {},
   "source": [
    "## 输出格式美化\n",
    "Python两种输出值的方式: 表达式语句和 print() 函数。\n",
    "\n",
    "第三种方式是使用文件对象的 write() 方法，标准输出文件可以用 sys.stdout 引用。\n",
    "\n",
    "如果你希望输出的形式更加多样，可以使用 str.format() 函数来格式化输出值。\n",
    "\n",
    "如果你希望将输出的值转成字符串，可以使用 repr() 或 str() 函数来实现。\n",
    "* str() 函数返回一个用户易读的表达形式\n",
    "* repr() 产生一个解释器易读的表达形式"
   ]
  },
  {
   "cell_type": "code",
   "execution_count": 2,
   "metadata": {},
   "outputs": [
    {
     "name": "stdout",
     "output_type": "stream",
     "text": [
      "Hello, Runoob\n",
      "'Hello, Runoob'\n",
      "0.14285714285714285\n",
      "x 的值为： 32.5,  y 的值为：40000...\n",
      "'hello, runoob\\n'\n",
      "hello, runoob\n",
      "\n",
      "(32.5, 40000, ('Google', 'Runoob'))\n"
     ]
    }
   ],
   "source": [
    "s = 'Hello, Runoob'\n",
    "print(str(s))\n",
    "print(repr(s))\n",
    "print(str(1/7))\n",
    "x = 10 * 3.25\n",
    "y = 200 * 200\n",
    "s = 'x 的值为： ' + repr(x) + ',  y 的值为：' + repr(y) + '...'\n",
    "print(s)\n",
    "\n",
    "#  repr() 函数可以转义字符串中的特殊字符\n",
    "hello = 'hello, runoob\\n'\n",
    "hellorepr = repr(hello)\n",
    "print(hellorepr)\n",
    "hellostr = str(hello)\n",
    "print(hellostr)\n",
    "\n",
    "\n",
    "# repr() 的参数可以是 Python 的任何对象\n",
    "print(repr((x, y, ('Google', 'Runoob'))))"
   ]
  },
  {
   "cell_type": "markdown",
   "metadata": {},
   "source": [
    "这里有两种方式输出一个平方与立方的表:"
   ]
  },
  {
   "cell_type": "code",
   "execution_count": 3,
   "metadata": {},
   "outputs": [
    {
     "name": "stdout",
     "output_type": "stream",
     "text": [
      " 1   1    1\n",
      " 2   4    8\n",
      " 3   9   27\n",
      " 4  16   64\n",
      " 5  25  125\n",
      " 6  36  216\n",
      " 7  49  343\n",
      " 8  64  512\n",
      " 9  81  729\n",
      "10 100 1000\n"
     ]
    }
   ],
   "source": [
    "for x in range(1, 11):\n",
    "    print(repr(x).rjust(2), repr(x*x).rjust(3), end=' ')\n",
    "    # 注意前一行 'end' 的使用\n",
    "    print(repr(x*x*x).rjust(4))"
   ]
  },
  {
   "cell_type": "code",
   "execution_count": 5,
   "metadata": {},
   "outputs": [
    {
     "name": "stdout",
     "output_type": "stream",
     "text": [
      " 1    1     1\n",
      " 2    4     8\n",
      " 3    9    27\n",
      " 4   16    64\n",
      " 5   25   125\n",
      " 6   36   216\n",
      " 7   49   343\n",
      " 8   64   512\n",
      " 9   81   729\n",
      "10  100  1000\n"
     ]
    }
   ],
   "source": [
    "for x in range(1, 11):\n",
    "    print('{0:2d} {1:3d} {2:4d}'.format(x, x*x, x*x*x))"
   ]
  },
  {
   "cell_type": "markdown",
   "metadata": {},
   "source": [
    "### 空格填充\n",
    "注意：在第一个例子中, 每列间的空格由 print() 添加。\n",
    "\n",
    "这个例子展示了字符串对象的 rjust() 方法, 它可以将字符串靠右, 并在左边填充空格。\n",
    "\n",
    "还有类似的方法, 如 ljust() 和 center()。 这些方法并不会写任何东西, 它们仅仅返回新的字符串。\n",
    "\n",
    "另一个方法 zfill(), 它会在数字的左边填充 0，如下所示："
   ]
  },
  {
   "cell_type": "code",
   "execution_count": 10,
   "metadata": {},
   "outputs": [
    {
     "name": "stdout",
     "output_type": "stream",
     "text": [
      "00012\n",
      "-003.14\n",
      "3.14159265359\n",
      "000333\n"
     ]
    }
   ],
   "source": [
    "print('12'.zfill(5))\n",
    "print('-3.14'.zfill(7))\n",
    "print('3.14159265359'.zfill(5))\n",
    "print('333'.zfill(6))  #填充深市股票代码"
   ]
  },
  {
   "cell_type": "markdown",
   "metadata": {},
   "source": [
    "### 字符串格式化：str.format()\n",
    "str.format() 的基本使用如下:"
   ]
  },
  {
   "cell_type": "code",
   "execution_count": 11,
   "metadata": {},
   "outputs": [
    {
     "name": "stdout",
     "output_type": "stream",
     "text": [
      "晨星网址： \"www.morningstar.com!\"\n"
     ]
    }
   ],
   "source": [
    "print('{}网址： \"{}!\"'.format('晨星', 'www.morningstar.com'))"
   ]
  },
  {
   "cell_type": "markdown",
   "metadata": {},
   "source": [
    "括号及其里面的字符 (称作格式化字段) 将会被 format() 中的参数替换。\n",
    "\n",
    "在括号中的数字用于指向传入对象在 format() 中的位置，如下所示："
   ]
  },
  {
   "cell_type": "code",
   "execution_count": 12,
   "metadata": {},
   "outputs": [
    {
     "name": "stdout",
     "output_type": "stream",
     "text": [
      "Google 和 Facebook\n",
      "Facebook 和 Google\n"
     ]
    }
   ],
   "source": [
    "print('{0} 和 {1}'.format('Google', 'Facebook'))\n",
    "print('{1} 和 {0}'.format('Google', 'Facebook'))"
   ]
  },
  {
   "cell_type": "markdown",
   "metadata": {},
   "source": [
    "如果在 format() 中使用了关键字参数, 那么它们的值会指向使用该名字的参数"
   ]
  },
  {
   "cell_type": "code",
   "execution_count": 13,
   "metadata": {},
   "outputs": [
    {
     "name": "stdout",
     "output_type": "stream",
     "text": [
      "晨星网址： www.morningstar.com\n"
     ]
    }
   ],
   "source": [
    "print('{name}网址： {site}'.format(name='晨星', site='www.morningstar.com'))"
   ]
  },
  {
   "cell_type": "markdown",
   "metadata": {},
   "source": [
    "位置及关键字参数可以任意的结合"
   ]
  },
  {
   "cell_type": "code",
   "execution_count": 14,
   "metadata": {},
   "outputs": [
    {
     "name": "stdout",
     "output_type": "stream",
     "text": [
      "站点列表 Google, Morningstar, 和 Taobao。\n"
     ]
    }
   ],
   "source": [
    "print('站点列表 {0}, {1}, 和 {other}。'.format('Google', 'Morningstar', other='Taobao'))"
   ]
  },
  {
   "cell_type": "markdown",
   "metadata": {},
   "source": [
    "'!a' (使用 ascii()), '!s' (使用 str()) 和 '!r' (使用 repr()) 可以用于在格式化某个值之前对其进行转化:"
   ]
  },
  {
   "cell_type": "code",
   "execution_count": 18,
   "metadata": {},
   "outputs": [
    {
     "name": "stdout",
     "output_type": "stream",
     "text": [
      "常量 PI 的值近似为： 3.141592653589793。\n",
      "常量 PI 的值近似为： 3.141592653589793。\n"
     ]
    }
   ],
   "source": [
    "import math\n",
    "print('常量 PI 的值近似为： {!s}。'.format(math.pi))\n",
    "print('常量 PI 的值近似为： {!r}。'.format(math.pi))"
   ]
  },
  {
   "cell_type": "markdown",
   "metadata": {},
   "source": [
    "可选项 ':' 和格式标识符可以跟着字段名。 这就允许对值进行更好的格式化。 下面的例子将 Pi 保留到小数点后三位"
   ]
  },
  {
   "cell_type": "code",
   "execution_count": 19,
   "metadata": {},
   "outputs": [
    {
     "name": "stdout",
     "output_type": "stream",
     "text": [
      "常量 PI 的值近似为 3.142。\n"
     ]
    }
   ],
   "source": [
    "import math\n",
    "print('常量 PI 的值近似为 {0:.3f}。'.format(math.pi))"
   ]
  },
  {
   "cell_type": "markdown",
   "metadata": {},
   "source": [
    "在 ':' 后传入一个整数, 可以保证该域至少有这么多的宽度。 用于美化表格时很有用"
   ]
  },
  {
   "cell_type": "code",
   "execution_count": 25,
   "metadata": {},
   "outputs": [
    {
     "name": "stdout",
     "output_type": "stream",
     "text": [
      "Google     ==>          1\n",
      "Youdao     ==>          2\n",
      "Taobao     ==>          3\n"
     ]
    }
   ],
   "source": [
    "table = {'Google': 1, 'Youdao': 2, 'Taobao': 3}\n",
    "for name, number in table.items():\n",
    "    print('{0:10} ==> {1:10d}'.format(name, number))"
   ]
  },
  {
   "cell_type": "markdown",
   "metadata": {},
   "source": [
    "如果你有一个很长的格式化字符串, 而你不想将它们分开, 那么在格式化时通过变量名而非位置会是很好的事情。\n",
    "\n",
    "最简单的就是传入一个字典, 然后使用方括号 '[]' 来访问键值 :"
   ]
  },
  {
   "cell_type": "code",
   "execution_count": 29,
   "metadata": {},
   "outputs": [
    {
     "name": "stdout",
     "output_type": "stream",
     "text": [
      "Morningstar: 2; Google: 1; Taobao: 3\n"
     ]
    }
   ],
   "source": [
    "table = {'Google': 1, 'Morningstar': 2, 'Taobao': 3}\n",
    "print('Morningstar: {0[Morningstar]:d}; Google: {0[Google]:d}; Taobao: {0[Taobao]:d}'.format(table))"
   ]
  },
  {
   "cell_type": "markdown",
   "metadata": {},
   "source": [
    "也可以通过在 table 变量前使用 '\\*\\*' 来实现相同的功能："
   ]
  },
  {
   "cell_type": "code",
   "execution_count": 30,
   "metadata": {},
   "outputs": [
    {
     "name": "stdout",
     "output_type": "stream",
     "text": [
      "Runoob: 2; Google: 1; Taobao: 3\n"
     ]
    }
   ],
   "source": [
    "table = {'Google': 1, 'Morningstar': 2, 'Taobao': 3}\n",
    "print('Runoob: {Morningstar:d}; Google: {Google:d}; Taobao: {Taobao:d}'.format(**table))"
   ]
  },
  {
   "cell_type": "markdown",
   "metadata": {},
   "source": [
    "## 旧式字符串格式化"
   ]
  },
  {
   "cell_type": "markdown",
   "metadata": {},
   "source": [
    "% 操作符也可以实现字符串格式化。 它将左边的参数作为类似 sprintf() 式的格式化字符串, 而将右边的代入, 然后返回格式化后的字符串. 例如"
   ]
  },
  {
   "cell_type": "code",
   "execution_count": 31,
   "metadata": {
    "scrolled": true
   },
   "outputs": [
    {
     "name": "stdout",
     "output_type": "stream",
     "text": [
      "常量 PI 的值近似为：3.142。\n"
     ]
    }
   ],
   "source": [
    "import math\n",
    "print('常量 PI 的值近似为：%5.3f。' % math.pi)"
   ]
  },
  {
   "cell_type": "markdown",
   "metadata": {},
   "source": [
    "因为 str.format() 比较新的函数， 大多数的 Python 代码仍然使用 % 操作符。但是因为这种旧式的格式化最终会从该语言中移除, 应该更多的使用 str.format()."
   ]
  },
  {
   "cell_type": "code",
   "execution_count": null,
   "metadata": {},
   "outputs": [],
   "source": []
  }
 ],
 "metadata": {
  "kernelspec": {
   "display_name": "Python 3",
   "language": "python",
   "name": "python3"
  },
  "language_info": {
   "codemirror_mode": {
    "name": "ipython",
    "version": 3
   },
   "file_extension": ".py",
   "mimetype": "text/x-python",
   "name": "python",
   "nbconvert_exporter": "python",
   "pygments_lexer": "ipython3",
   "version": "3.6.2"
  }
 },
 "nbformat": 4,
 "nbformat_minor": 2
}
