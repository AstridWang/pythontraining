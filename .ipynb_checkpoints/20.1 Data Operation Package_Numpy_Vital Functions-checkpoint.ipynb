{
 "cells": [
  {
   "cell_type": "markdown",
   "metadata": {},
   "source": [
    "# Numpy中重要的函数"
   ]
  },
  {
   "cell_type": "markdown",
   "metadata": {},
   "source": [
    "上一篇文章中，重点介绍ndarray的使用，这篇着重介绍Numpy中重要的函数"
   ]
  },
  {
   "cell_type": "markdown",
   "metadata": {},
   "source": [
    "## 1. 如何使用np.where获得满足给定条件的索引位置？"
   ]
  },
  {
   "cell_type": "markdown",
   "metadata": {},
   "source": [
    "在此之前，已经介绍了如何从满足给定条件的矩阵中提取item, 即布尔检索。<br>\n",
    "但有时我们想知道项目的索引位置（满足某条件），并做任何想做的事情。<br>\n",
    "```np.where```可以定位矩阵中一个给定条件为True的位置。"
   ]
  },
  {
   "cell_type": "code",
   "execution_count": 1,
   "metadata": {},
   "outputs": [
    {
     "name": "stdout",
     "output_type": "stream",
     "text": [
      "Array:  [8 8 3 7 7 0 4 2 5 2]\n",
      "Positions where value > 5:  (array([0, 1, 3, 4], dtype=int64),)\n"
     ]
    }
   ],
   "source": [
    "# Create an array\n",
    "import numpy as np\n",
    "np.random.seed(100)\n",
    "arr_rand = np.random.randint(0, 10, size=10)\n",
    "print(\"Array: \", arr_rand)\n",
    "\n",
    "# Positions where value > 5\n",
    "index_gt5 = np.where(arr_rand > 5)\n",
    "print(\"Positions where value > 5: \", index_gt5)"
   ]
  },
  {
   "cell_type": "markdown",
   "metadata": {},
   "source": [
    "通过np.where获取的是满足条件的item的索引数组，一旦获取到这个索引数组，就可以通过```take```方法，获取对应矩阵的值"
   ]
  },
  {
   "cell_type": "code",
   "execution_count": 2,
   "metadata": {},
   "outputs": [
    {
     "name": "stdout",
     "output_type": "stream",
     "text": [
      "[[8 8 7 7]]\n"
     ]
    }
   ],
   "source": [
    "print(arr_rand.take(index_gt5))"
   ]
  },
  {
   "cell_type": "markdown",
   "metadata": {},
   "source": [
    "此外，```np.where```也接受额外的可选参数：x与y。<br>\n",
    "只要条件为真，即得到x，否则得到y<br>\n",
    "下面的例子中，将尝试创建一个数组：大于5的位置将设置为gt5；否则设置为le5"
   ]
  },
  {
   "cell_type": "code",
   "execution_count": 3,
   "metadata": {},
   "outputs": [
    {
     "name": "stdout",
     "output_type": "stream",
     "text": [
      "['gt5' 'gt5' 'le5' 'gt5' 'gt5' 'le5' 'le5' 'le5' 'le5' 'le5']\n"
     ]
    }
   ],
   "source": [
    "print(np.where(arr_rand > 5, 'gt5', 'le5'))"
   ]
  },
  {
   "cell_type": "markdown",
   "metadata": {},
   "source": [
    "此外，可以通过```np.argmax```获得最大值所在的索引；```np.argmin```获得最小值所在的索引"
   ]
  },
  {
   "cell_type": "code",
   "execution_count": 5,
   "metadata": {},
   "outputs": [
    {
     "name": "stdout",
     "output_type": "stream",
     "text": [
      "Position of max value:  0\n",
      "Max value is:  8\n",
      "Position of min value:  5\n",
      "Min value is:  0\n"
     ]
    }
   ],
   "source": [
    "# Location of the max\n",
    "print('Position of max value: ', np.argmax(arr_rand))  \n",
    "print('Max value is: ', arr_rand[np.argmax(arr_rand)])\n",
    "\n",
    "# Location of the min\n",
    "print('Position of min value: ', np.argmin(arr_rand)) \n",
    "print('Min value is: ', arr_rand[np.argmin(arr_rand)])"
   ]
  },
  {
   "cell_type": "markdown",
   "metadata": {},
   "source": [
    "## 2. 如何从csv文件导入与导出数据？"
   ]
  },
  {
   "cell_type": "markdown",
   "metadata": {},
   "source": [
    "导入数据集的标准方法是使用```np.genfromtxt```函数。它可以从本地文件或者web url导入数据集。<br>\n",
    "该函数可以处理csv中缺失的值（事实上，对于csv中非数值型的单元值，其都会用缺失值进行填充），多个分隔符，处理不规则的列数等。<br>\n",
    "一个不太通用的版本是```np.loadtxt```，它假设数据集没有丢失的值。<br>\n",
    "下面试着读取一个.csv文件。由于numpy数组中的所有元素都应该是相同的数据类型，所以最后一列是文本，而设置的dtype是float，所以文本在默认情况下被作为“nan”识别。<br>\n",
    "设定fillingvalues参数，即可替代nan，当然也可以用其他数值替换缺失的值，比如0或-1。"
   ]
  },
  {
   "cell_type": "markdown",
   "metadata": {},
   "source": [
    "CSV的数据大致如下（这里用了pandas进行较美观格式输出，就不用贴截图图片了哈~~~）："
   ]
  },
  {
   "cell_type": "code",
   "execution_count": 17,
   "metadata": {},
   "outputs": [
    {
     "data": {
      "text/html": [
       "<table border=\"1\" class=\"dataframe\">\n",
       "  <thead>\n",
       "    <tr style=\"text-align: right;\">\n",
       "      <th></th>\n",
       "      <th>mpg</th>\n",
       "      <th>cylinders</th>\n",
       "      <th>displacement</th>\n",
       "      <th>horsepower</th>\n",
       "      <th>weight</th>\n",
       "      <th>acceleration</th>\n",
       "      <th>year</th>\n",
       "      <th>origin</th>\n",
       "      <th>name</th>\n",
       "    </tr>\n",
       "  </thead>\n",
       "  <tbody>\n",
       "    <tr>\n",
       "      <th>0</th>\n",
       "      <td>18.0</td>\n",
       "      <td>8</td>\n",
       "      <td>307.0</td>\n",
       "      <td>130</td>\n",
       "      <td>3504</td>\n",
       "      <td>12.0</td>\n",
       "      <td>70</td>\n",
       "      <td>1</td>\n",
       "      <td>chevrolet chevelle malibu</td>\n",
       "    </tr>\n",
       "    <tr>\n",
       "      <th>1</th>\n",
       "      <td>15.0</td>\n",
       "      <td>8</td>\n",
       "      <td>350.0</td>\n",
       "      <td>165</td>\n",
       "      <td>3693</td>\n",
       "      <td>11.5</td>\n",
       "      <td>70</td>\n",
       "      <td>1</td>\n",
       "      <td>buick skylark 320</td>\n",
       "    </tr>\n",
       "    <tr>\n",
       "      <th>2</th>\n",
       "      <td>18.0</td>\n",
       "      <td>8</td>\n",
       "      <td>318.0</td>\n",
       "      <td>150</td>\n",
       "      <td>3436</td>\n",
       "      <td>11.0</td>\n",
       "      <td>70</td>\n",
       "      <td>1</td>\n",
       "      <td>plymouth satellite</td>\n",
       "    </tr>\n",
       "    <tr>\n",
       "      <th>3</th>\n",
       "      <td>16.0</td>\n",
       "      <td>8</td>\n",
       "      <td>304.0</td>\n",
       "      <td>150</td>\n",
       "      <td>3433</td>\n",
       "      <td>12.0</td>\n",
       "      <td>70</td>\n",
       "      <td>1</td>\n",
       "      <td>amc rebel sst</td>\n",
       "    </tr>\n",
       "    <tr>\n",
       "      <th>4</th>\n",
       "      <td>17.0</td>\n",
       "      <td>8</td>\n",
       "      <td>302.0</td>\n",
       "      <td>140</td>\n",
       "      <td>3449</td>\n",
       "      <td>10.5</td>\n",
       "      <td>70</td>\n",
       "      <td>1</td>\n",
       "      <td>ford torino</td>\n",
       "    </tr>\n",
       "    <tr>\n",
       "      <th>5</th>\n",
       "      <td>15.0</td>\n",
       "      <td>8</td>\n",
       "      <td>429.0</td>\n",
       "      <td>198</td>\n",
       "      <td>4341</td>\n",
       "      <td>10.0</td>\n",
       "      <td>70</td>\n",
       "      <td>1</td>\n",
       "      <td>ford galaxie 500</td>\n",
       "    </tr>\n",
       "    <tr>\n",
       "      <th>6</th>\n",
       "      <td>14.0</td>\n",
       "      <td>8</td>\n",
       "      <td>454.0</td>\n",
       "      <td>220</td>\n",
       "      <td>4354</td>\n",
       "      <td>9.0</td>\n",
       "      <td>70</td>\n",
       "      <td>1</td>\n",
       "      <td>chevrolet impala</td>\n",
       "    </tr>\n",
       "    <tr>\n",
       "      <th>7</th>\n",
       "      <td>14.0</td>\n",
       "      <td>8</td>\n",
       "      <td>440.0</td>\n",
       "      <td>215</td>\n",
       "      <td>4312</td>\n",
       "      <td>8.5</td>\n",
       "      <td>70</td>\n",
       "      <td>1</td>\n",
       "      <td>plymouth fury iii</td>\n",
       "    </tr>\n",
       "    <tr>\n",
       "      <th>8</th>\n",
       "      <td>14.0</td>\n",
       "      <td>8</td>\n",
       "      <td>455.0</td>\n",
       "      <td>225</td>\n",
       "      <td>4425</td>\n",
       "      <td>10.0</td>\n",
       "      <td>70</td>\n",
       "      <td>1</td>\n",
       "      <td>pontiac catalina</td>\n",
       "    </tr>\n",
       "    <tr>\n",
       "      <th>9</th>\n",
       "      <td>15.0</td>\n",
       "      <td>8</td>\n",
       "      <td>390.0</td>\n",
       "      <td>190</td>\n",
       "      <td>3850</td>\n",
       "      <td>8.5</td>\n",
       "      <td>70</td>\n",
       "      <td>1</td>\n",
       "      <td>amc ambassador dpl</td>\n",
       "    </tr>\n",
       "  </tbody>\n",
       "</table>"
      ],
      "text/plain": [
       "<IPython.core.display.HTML object>"
      ]
     },
     "metadata": {},
     "output_type": "display_data"
    }
   ],
   "source": [
    "import pandas as pd\n",
    "from IPython.display import display, HTML \n",
    "df = pd.read_csv('./csv/Auto.csv', encoding='utf-8')\n",
    "display(HTML(df[:10].to_html()))"
   ]
  },
  {
   "cell_type": "code",
   "execution_count": 18,
   "metadata": {},
   "outputs": [
    {
     "name": "stdout",
     "output_type": "stream",
     "text": [
      "[[  18.     8.   307.   130.  3504.    12.    70.     1.  -999. ]\n",
      " [  15.     8.   350.   165.  3693.    11.5   70.     1.  -999. ]\n",
      " [  18.     8.   318.   150.  3436.    11.    70.     1.  -999. ]\n",
      " [  16.     8.   304.   150.  3433.    12.    70.     1.  -999. ]\n",
      " [  17.     8.   302.   140.  3449.    10.5   70.     1.  -999. ]\n",
      " [  15.     8.   429.   198.  4341.    10.    70.     1.  -999. ]\n",
      " [  14.     8.   454.   220.  4354.     9.    70.     1.  -999. ]\n",
      " [  14.     8.   440.   215.  4312.     8.5   70.     1.  -999. ]\n",
      " [  14.     8.   455.   225.  4425.    10.    70.     1.  -999. ]\n",
      " [  15.     8.   390.   190.  3850.     8.5   70.     1.  -999. ]]\n"
     ]
    }
   ],
   "source": [
    "# Turn off scientific notation\n",
    "np.set_printoptions(suppress=True)  \n",
    "\n",
    "# Import data from csv file url\n",
    "path = './csv/Auto.csv'\n",
    "data = np.genfromtxt(path, delimiter=',', skip_header=1, filling_values=-999, dtype='float')\n",
    "# see first 3 rows\n",
    "print(data[:10])"
   ]
  },
  {
   "cell_type": "markdown",
   "metadata": {},
   "source": [
    "看起来很整洁，但是有没有注意到最后一列的所有值都有相同的值'-999'？<br>\n",
    "这是因为，之前提到过```dtype='float'```。<br>\n",
    "而文件的最后一列包含文本值，因为numpy数组中的所有值都必须是相同的'dtype'，所以```np.genfromtxt```不知道如何将其转换为浮点数，只能讲其转为'nan'，此时filling_values就起作用了。"
   ]
  },
  {
   "cell_type": "code",
   "execution_count": null,
   "metadata": {},
   "outputs": [],
   "source": []
  }
 ],
 "metadata": {
  "kernelspec": {
   "display_name": "Python 3",
   "language": "python",
   "name": "python3"
  },
  "language_info": {
   "codemirror_mode": {
    "name": "ipython",
    "version": 3
   },
   "file_extension": ".py",
   "mimetype": "text/x-python",
   "name": "python",
   "nbconvert_exporter": "python",
   "pygments_lexer": "ipython3",
   "version": "3.6.2"
  }
 },
 "nbformat": 4,
 "nbformat_minor": 2
}
