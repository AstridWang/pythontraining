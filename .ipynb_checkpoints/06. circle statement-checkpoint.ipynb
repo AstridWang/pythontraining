{
 "cells": [
  {
   "cell_type": "markdown",
   "metadata": {},
   "source": [
    "# 循环语句\n",
    "Python中的循环语句有 for 和 while， Python循环语句的控制结构图如下所示"
   ]
  },
  {
   "cell_type": "markdown",
   "metadata": {},
   "source": [
    "![循环语句](./image/while_loop_1.png)"
   ]
  },
  {
   "cell_type": "markdown",
   "metadata": {},
   "source": [
    "## while循环\n",
    "* while 判断条件:\n",
    "<br>&nbsp;&nbsp;&nbsp;&nbsp;语句\n",
    "* 同样需要注意冒号和缩进。另外，在Python中没有do..while循环"
   ]
  },
  {
   "cell_type": "markdown",
   "metadata": {},
   "source": [
    "以下实例使用了 while 来计算 1 到 100 的总和"
   ]
  },
  {
   "cell_type": "code",
   "execution_count": 1,
   "metadata": {},
   "outputs": [
    {
     "name": "stdout",
     "output_type": "stream",
     "text": [
      "1 到 100 之和为: 5050\n"
     ]
    }
   ],
   "source": [
    "n = 100\n",
    "sum = 0\n",
    "counter = 1\n",
    "while counter <= n:\n",
    "    sum += counter\n",
    "    counter += 1\n",
    " \n",
    "print(\"1 到 %d 之和为: %d\" % (n,sum))"
   ]
  },
  {
   "cell_type": "markdown",
   "metadata": {},
   "source": [
    "### 无限循环\n",
    "我们可以通过设置条件表达式永远不为 false 来实现无限循环\n",
    "无限循环在服务器上客户端的实时请求非常有用"
   ]
  },
  {
   "cell_type": "code",
   "execution_count": 2,
   "metadata": {},
   "outputs": [
    {
     "name": "stdout",
     "output_type": "stream",
     "text": [
      "输入一个数字  :2\n",
      "你输入的数字是:  2\n",
      "输入一个数字  :3\n",
      "你输入的数字是:  3\n",
      "输入一个数字  :4\n",
      "你输入的数字是:  4\n",
      "输入一个数字  :d\n"
     ]
    },
    {
     "ename": "ValueError",
     "evalue": "invalid literal for int() with base 10: 'd'",
     "output_type": "error",
     "traceback": [
      "\u001b[1;31m---------------------------------------------------------------------------\u001b[0m",
      "\u001b[1;31mValueError\u001b[0m                                Traceback (most recent call last)",
      "\u001b[1;32m<ipython-input-2-47bf5e95a5ce>\u001b[0m in \u001b[0;36m<module>\u001b[1;34m()\u001b[0m\n\u001b[0;32m      1\u001b[0m \u001b[0mvar\u001b[0m \u001b[1;33m=\u001b[0m \u001b[1;36m1\u001b[0m\u001b[1;33m\u001b[0m\u001b[0m\n\u001b[0;32m      2\u001b[0m \u001b[1;32mwhile\u001b[0m \u001b[0mvar\u001b[0m \u001b[1;33m==\u001b[0m \u001b[1;36m1\u001b[0m \u001b[1;33m:\u001b[0m  \u001b[1;31m# 表达式永远为 true\u001b[0m\u001b[1;33m\u001b[0m\u001b[0m\n\u001b[1;32m----> 3\u001b[1;33m    \u001b[0mnum\u001b[0m \u001b[1;33m=\u001b[0m \u001b[0mint\u001b[0m\u001b[1;33m(\u001b[0m\u001b[0minput\u001b[0m\u001b[1;33m(\u001b[0m\u001b[1;34m\"输入一个数字  :\"\u001b[0m\u001b[1;33m)\u001b[0m\u001b[1;33m)\u001b[0m\u001b[1;33m\u001b[0m\u001b[0m\n\u001b[0m\u001b[0;32m      4\u001b[0m    \u001b[0mprint\u001b[0m \u001b[1;33m(\u001b[0m\u001b[1;34m\"你输入的数字是: \"\u001b[0m\u001b[1;33m,\u001b[0m \u001b[0mnum\u001b[0m\u001b[1;33m)\u001b[0m\u001b[1;33m\u001b[0m\u001b[0m\n\u001b[0;32m      5\u001b[0m \u001b[1;33m\u001b[0m\u001b[0m\n",
      "\u001b[1;31mValueError\u001b[0m: invalid literal for int() with base 10: 'd'"
     ]
    }
   ],
   "source": [
    "var = 1\n",
    "while var == 1 :  # 表达式永远为 true\n",
    "   num = int(input(\"输入一个数字  :\"))\n",
    "   print (\"你输入的数字是: \", num)\n",
    " \n",
    "print (\"Good bye!\")"
   ]
  },
  {
   "cell_type": "markdown",
   "metadata": {},
   "source": [
    "### while 循环使用 else 语句\n",
    "在 while … else 在条件语句为 false 时执行 else 的语句块"
   ]
  },
  {
   "cell_type": "code",
   "execution_count": 3,
   "metadata": {},
   "outputs": [
    {
     "name": "stdout",
     "output_type": "stream",
     "text": [
      "0  小于 5\n",
      "1  小于 5\n",
      "2  小于 5\n",
      "3  小于 5\n",
      "4  小于 5\n",
      "5  大于或等于 5\n"
     ]
    }
   ],
   "source": [
    "count = 0\n",
    "while count < 5:\n",
    "   print (count, \" 小于 5\")\n",
    "   count = count + 1\n",
    "else:\n",
    "   print (count, \" 大于或等于 5\")"
   ]
  },
  {
   "cell_type": "markdown",
   "metadata": {},
   "source": [
    "## for语句\n",
    "* Python for循环可以遍历任何序列的项目，如一个列表或者一个字符串\n",
    "* for循环的一般格式如下\n",
    "* for 变量 in 可枚举变量:\n",
    "    <br>&nbsp;&nbsp;&nbsp;&nbsp;语句\n",
    "    <br>else:\n",
    "    <br>&nbsp;&nbsp;&nbsp;&nbsp;语句"
   ]
  },
  {
   "cell_type": "code",
   "execution_count": 4,
   "metadata": {},
   "outputs": [
    {
     "name": "stdout",
     "output_type": "stream",
     "text": [
      "C\n",
      "C++\n",
      "Perl\n",
      "Python\n"
     ]
    }
   ],
   "source": [
    "languages = [\"C\", \"C++\", \"Perl\", \"Python\"]\n",
    "for x in languages:\n",
    "    print (x)"
   ]
  },
  {
   "cell_type": "markdown",
   "metadata": {},
   "source": [
    "break语句，用于跳出当前循环体"
   ]
  },
  {
   "cell_type": "code",
   "execution_count": 5,
   "metadata": {},
   "outputs": [
    {
     "name": "stdout",
     "output_type": "stream",
     "text": [
      "循环数据 Baidu\n",
      "循环数据 Google\n",
      "晨星\n",
      "完成循环!\n"
     ]
    }
   ],
   "source": [
    "sites = [\"Baidu\", \"Google\",\"Morningstar\",\"Taobao\"]\n",
    "for site in sites:\n",
    "    if site == \"Morningstar\":\n",
    "        print(\"晨星\")\n",
    "        break\n",
    "    print(\"循环数据 \" + site)\n",
    "else:\n",
    "    print(\"没有循环数据!\")\n",
    "print(\"完成循环!\")"
   ]
  },
  {
   "cell_type": "markdown",
   "metadata": {},
   "source": [
    "### range()函数\n",
    "如果你需要遍历数字序列，可以使用内置range()函数。它会生成数列"
   ]
  },
  {
   "cell_type": "code",
   "execution_count": 6,
   "metadata": {},
   "outputs": [
    {
     "name": "stdout",
     "output_type": "stream",
     "text": [
      "0\n",
      "1\n",
      "2\n",
      "3\n",
      "4\n",
      "5\n",
      "6\n",
      "7\n",
      "8\n",
      "9\n",
      "5\n",
      "6\n",
      "7\n",
      "8\n",
      "9\n"
     ]
    }
   ],
   "source": [
    "for i in range(10):\n",
    "    print(i)\n",
    "for i in range(5, 10):\n",
    "    print(i)"
   ]
  },
  {
   "cell_type": "markdown",
   "metadata": {},
   "source": [
    "也可以使range以指定数字开始并指定不同的增量(甚至可以是负数，有时这也叫做'步长'):"
   ]
  },
  {
   "cell_type": "code",
   "execution_count": 8,
   "metadata": {},
   "outputs": [
    {
     "name": "stdout",
     "output_type": "stream",
     "text": [
      "0\n",
      "3\n",
      "6\n",
      "9\n"
     ]
    }
   ],
   "source": [
    "for i in range(0, 10, 3):\n",
    "    print(i)"
   ]
  },
  {
   "cell_type": "code",
   "execution_count": 11,
   "metadata": {},
   "outputs": [
    {
     "name": "stdout",
     "output_type": "stream",
     "text": [
      "10\n",
      "8\n",
      "6\n",
      "4\n"
     ]
    }
   ],
   "source": [
    "for i in range(10, 3, -2):\n",
    "    print(i)"
   ]
  },
  {
   "cell_type": "markdown",
   "metadata": {},
   "source": [
    "您可以结合range()和len()函数以遍历一个序列的索引,如下所示"
   ]
  },
  {
   "cell_type": "code",
   "execution_count": 16,
   "metadata": {},
   "outputs": [
    {
     "name": "stdout",
     "output_type": "stream",
     "text": [
      "0 Google\n",
      "1 Baidu\n",
      "2 Morningstar\n",
      "3 Taobao\n",
      "4 QQ\n"
     ]
    }
   ],
   "source": [
    "a = ['Google', 'Baidu', 'Morningstar', 'Taobao', 'QQ']\n",
    "for i in range(len(a)):\n",
    "    print(i, a[i])"
   ]
  },
  {
   "cell_type": "markdown",
   "metadata": {},
   "source": [
    "通过range()函数生成一个列表"
   ]
  },
  {
   "cell_type": "code",
   "execution_count": 3,
   "metadata": {},
   "outputs": [
    {
     "name": "stdout",
     "output_type": "stream",
     "text": [
      "[0, 1, 2, 3, 4, 5, 6]\n"
     ]
    }
   ],
   "source": [
    "print(list(range(7)))"
   ]
  },
  {
   "cell_type": "markdown",
   "metadata": {},
   "source": [
    "<font color='red'><b>Python内置有枚举器: enumerate，使用这个更方便：</b></font>"
   ]
  },
  {
   "cell_type": "code",
   "execution_count": 2,
   "metadata": {},
   "outputs": [
    {
     "name": "stdout",
     "output_type": "stream",
     "text": [
      "0 Google\n",
      "1 Baidu\n",
      "2 Morningstar\n",
      "3 Taobao\n",
      "4 QQ\n"
     ]
    }
   ],
   "source": [
    "for index, member in  enumerate(['Google', 'Baidu', 'Morningstar', 'Taobao', 'QQ']):\n",
    "    print(index, member)"
   ]
  },
  {
   "cell_type": "markdown",
   "metadata": {},
   "source": [
    "### break和continue语句及循环中的else子句\n",
    "* break 语句可以跳出 for 和 while 的循环体。\n",
    "* continue语句，跳过当前循环语句，继续下一次循环。\n",
    "* 如果你从 for 或 while 循环中终止，任何对应的循环 else 块将不执行"
   ]
  },
  {
   "cell_type": "code",
   "execution_count": 1,
   "metadata": {},
   "outputs": [
    {
     "name": "stdout",
     "output_type": "stream",
     "text": [
      "当前字母为 : M\n",
      "当前字母为 : o\n",
      "当前字母为 : r\n",
      "当前字母为 : n\n",
      "当前字母为 : i\n",
      "当前字母为 : n\n",
      "当前字母为 : g\n",
      "当前字母为 : s\n",
      "当前字母为 : t\n",
      "当期变量值为 : 10\n",
      "当期变量值为 : 9\n",
      "当期变量值为 : 8\n",
      "当期变量值为 : 7\n",
      "当期变量值为 : 6\n",
      "Good bye!\n"
     ]
    }
   ],
   "source": [
    "for letter in 'Morningstar':     # 第一个实例\n",
    "   if letter.lower() == 'a':         # 对字母做判断，建议先进行lower或upper转换，这样可以匹配更多情景\n",
    "      break\n",
    "   print ('当前字母为 :', letter)\n",
    "  \n",
    "var = 10                    # 第二个实例\n",
    "while var > 0:              \n",
    "   print ('当期变量值为 :', var)\n",
    "   var = var - 1\n",
    "   if var == 5:\n",
    "      break\n",
    " \n",
    "print (\"Good bye!\")"
   ]
  },
  {
   "cell_type": "code",
   "execution_count": 4,
   "metadata": {},
   "outputs": [
    {
     "name": "stdout",
     "output_type": "stream",
     "text": [
      "当前字母 : M\n",
      "当前字母 : o\n",
      "当前字母 : r\n",
      "当前字母 : n\n",
      "当前字母 : i\n",
      "当前字母 : n\n",
      "当前字母 : g\n",
      "当前字母 : s\n",
      "当前字母 : t\n",
      "当前字母 : r\n",
      "当前变量值 : 9\n",
      "当前变量值 : 8\n",
      "当前变量值 : 7\n",
      "当前变量值 : 6\n",
      "当前变量值 : 4\n",
      "当前变量值 : 3\n",
      "当前变量值 : 2\n",
      "当前变量值 : 1\n",
      "当前变量值 : 0\n",
      "Good bye!\n"
     ]
    }
   ],
   "source": [
    "for letter in 'Morningstar':     # 第一个实例\n",
    "   if letter.lower() == 'a':        # 字母为 o 时跳过输出\n",
    "      continue\n",
    "   print ('当前字母 :', letter)\n",
    " \n",
    "var = 10                    # 第二个实例\n",
    "while var > 0:              \n",
    "   var = var -1\n",
    "   if var == 5:             # 变量为 5 时跳过输出\n",
    "      continue\n",
    "   print ('当前变量值 :', var)\n",
    "print (\"Good bye!\")"
   ]
  },
  {
   "cell_type": "markdown",
   "metadata": {},
   "source": [
    "循环语句可以有 else 子句，它在穷尽列表(以for循环)或条件变为 false (以while循环)导致循环终止时被执行,但循环被break终止时不执行。\n",
    "\n",
    "如下实例用于查询质数的循环例子:"
   ]
  },
  {
   "cell_type": "code",
   "execution_count": 5,
   "metadata": {},
   "outputs": [
    {
     "name": "stdout",
     "output_type": "stream",
     "text": [
      "2  是质数\n",
      "3  是质数\n",
      "4 等于 2 * 2\n",
      "5  是质数\n",
      "6 等于 2 * 3\n",
      "7  是质数\n",
      "8 等于 2 * 4\n",
      "9 等于 3 * 3\n"
     ]
    }
   ],
   "source": [
    "for n in range(2, 10):\n",
    "    for x in range(2, n):\n",
    "        if n % x == 0:\n",
    "            print(n, '等于', x, '*', n//x)\n",
    "            break\n",
    "    else:\n",
    "        # 循环中没有找到元素\n",
    "        print(n, ' 是质数')"
   ]
  },
  {
   "cell_type": "markdown",
   "metadata": {},
   "source": [
    "### Pass语句\n",
    "Python pass是空语句，是为了保持程序结构的完整性。一般情况下，只是为了防止语法错误，用于做逻辑块预留。\n",
    "\n",
    "pass 不做任何事情，一般用做占位语句，如下实例"
   ]
  },
  {
   "cell_type": "code",
   "execution_count": 8,
   "metadata": {},
   "outputs": [
    {
     "ename": "KeyboardInterrupt",
     "evalue": "",
     "output_type": "error",
     "traceback": [
      "\u001b[1;31m---------------------------------------------------------------------------\u001b[0m",
      "\u001b[1;31mKeyboardInterrupt\u001b[0m                         Traceback (most recent call last)",
      "\u001b[1;32m<ipython-input-8-644e3ac8d62b>\u001b[0m in \u001b[0;36m<module>\u001b[1;34m()\u001b[0m\n\u001b[0;32m      1\u001b[0m \u001b[1;32mwhile\u001b[0m \u001b[1;32mTrue\u001b[0m\u001b[1;33m:\u001b[0m\u001b[1;33m\u001b[0m\u001b[0m\n\u001b[1;32m----> 2\u001b[1;33m     \u001b[1;32mpass\u001b[0m  \u001b[1;31m#等待键盘中断，在jupyte notebook, 需要点击interrupt按钮\u001b[0m\u001b[1;33m\u001b[0m\u001b[0m\n\u001b[0m",
      "\u001b[1;31mKeyboardInterrupt\u001b[0m: "
     ]
    }
   ],
   "source": [
    "while True:\n",
    "    pass  #等待键盘中断，在jupyte notebook, 需要点击interrupt按钮"
   ]
  },
  {
   "cell_type": "code",
   "execution_count": 9,
   "metadata": {},
   "outputs": [
    {
     "name": "stdout",
     "output_type": "stream",
     "text": [
      "当前字母 : M\n",
      "执行 pass 块\n",
      "当前字母 : o\n",
      "当前字母 : r\n",
      "当前字母 : n\n",
      "当前字母 : i\n",
      "当前字母 : n\n",
      "当前字母 : g\n",
      "当前字母 : s\n",
      "当前字母 : t\n",
      "当前字母 : a\n",
      "当前字母 : r\n",
      "Good bye!\n"
     ]
    }
   ],
   "source": [
    "for letter in 'Morningstar': \n",
    "   if letter == 'o':\n",
    "      pass\n",
    "      print ('执行 pass 块')\n",
    "   print ('当前字母 :', letter)\n",
    " \n",
    "print (\"Good bye!\")"
   ]
  },
  {
   "cell_type": "markdown",
   "metadata": {},
   "source": [
    "for 循环 1-100 所有整数的和"
   ]
  },
  {
   "cell_type": "code",
   "execution_count": 10,
   "metadata": {},
   "outputs": [
    {
     "name": "stdout",
     "output_type": "stream",
     "text": [
      "5050\n"
     ]
    }
   ],
   "source": [
    "n = 0\n",
    "sum = 0\n",
    "for n in range(0,101):# n 范围 0-100\n",
    "    sum += n\n",
    "print(sum)"
   ]
  },
  {
   "cell_type": "code",
   "execution_count": 18,
   "metadata": {},
   "outputs": [
    {
     "name": "stdout",
     "output_type": "stream",
     "text": [
      "row: 0, docrawname is :VAUSA058DQ\n",
      "row: 1, docrawname is :VAUSA058DL\n",
      "row: 2, docrawname is :VAUSA058DH\n",
      "row: 3, docrawname is :VAUSA00C6M\n",
      "row: 4, docrawname is :VAUSA00EFZ\n"
     ]
    },
    {
     "data": {
      "text/html": [
       "<div>\n",
       "<style scoped>\n",
       "    .dataframe tbody tr th:only-of-type {\n",
       "        vertical-align: middle;\n",
       "    }\n",
       "\n",
       "    .dataframe tbody tr th {\n",
       "        vertical-align: top;\n",
       "    }\n",
       "\n",
       "    .dataframe thead th {\n",
       "        text-align: right;\n",
       "    }\n",
       "</style>\n",
       "<table border=\"1\" class=\"dataframe\">\n",
       "  <thead>\n",
       "    <tr style=\"text-align: right;\">\n",
       "      <th></th>\n",
       "      <th>Unnamed: 0</th>\n",
       "      <th>docid</th>\n",
       "      <th>policyid</th>\n",
       "      <th>subaccountid</th>\n",
       "      <th>secid</th>\n",
       "      <th>status</th>\n",
       "      <th>dmname</th>\n",
       "      <th>docrawname</th>\n",
       "    </tr>\n",
       "  </thead>\n",
       "  <tbody>\n",
       "    <tr>\n",
       "      <th>0</th>\n",
       "      <td>0</td>\n",
       "      <td>168203073</td>\n",
       "      <td>VPUSA0009R</td>\n",
       "      <td>VAUSA058DQ</td>\n",
       "      <td>FVUSA04ABP</td>\n",
       "      <td>1</td>\n",
       "      <td>Putnam VT Capital Opportunities Fund Class IB</td>\n",
       "      <td>putnam vt capital opportunities fund  class ib</td>\n",
       "    </tr>\n",
       "    <tr>\n",
       "      <th>1</th>\n",
       "      <td>1</td>\n",
       "      <td>168203073</td>\n",
       "      <td>VPUSA000AQ</td>\n",
       "      <td>VAUSA058DL</td>\n",
       "      <td>FVUSA04ABP</td>\n",
       "      <td>1</td>\n",
       "      <td>Putnam VT Capital Opportunities Fund Class IB</td>\n",
       "      <td>putnam vt capital opportunities fund  class ib</td>\n",
       "    </tr>\n",
       "    <tr>\n",
       "      <th>2</th>\n",
       "      <td>2</td>\n",
       "      <td>168203073</td>\n",
       "      <td>VPUSA000G6</td>\n",
       "      <td>VAUSA058DH</td>\n",
       "      <td>FVUSA04ABP</td>\n",
       "      <td>1</td>\n",
       "      <td>Putnam VT Capital Opportunities Fund Class IB</td>\n",
       "      <td>putnam vt capital opportunities fund  class ib</td>\n",
       "    </tr>\n",
       "    <tr>\n",
       "      <th>3</th>\n",
       "      <td>0</td>\n",
       "      <td>168203073</td>\n",
       "      <td>VPUSA0009R</td>\n",
       "      <td>VAUSA00C6M</td>\n",
       "      <td>FVUSA001Q9</td>\n",
       "      <td>1</td>\n",
       "      <td>Putnam VT Diversified Income Fund Class IB</td>\n",
       "      <td>putnam vt diversified income fund  class ib</td>\n",
       "    </tr>\n",
       "    <tr>\n",
       "      <th>4</th>\n",
       "      <td>1</td>\n",
       "      <td>168203073</td>\n",
       "      <td>VPUSA000AQ</td>\n",
       "      <td>VAUSA00EFZ</td>\n",
       "      <td>FVUSA001Q9</td>\n",
       "      <td>1</td>\n",
       "      <td>Putnam VT Diversified Income Fund Class IB</td>\n",
       "      <td>putnam vt diversified income fund  class ib</td>\n",
       "    </tr>\n",
       "  </tbody>\n",
       "</table>\n",
       "</div>"
      ],
      "text/plain": [
       "   Unnamed: 0      docid    policyid subaccountid       secid  status  \\\n",
       "0           0  168203073  VPUSA0009R   VAUSA058DQ  FVUSA04ABP       1   \n",
       "1           1  168203073  VPUSA000AQ   VAUSA058DL  FVUSA04ABP       1   \n",
       "2           2  168203073  VPUSA000G6   VAUSA058DH  FVUSA04ABP       1   \n",
       "3           0  168203073  VPUSA0009R   VAUSA00C6M  FVUSA001Q9       1   \n",
       "4           1  168203073  VPUSA000AQ   VAUSA00EFZ  FVUSA001Q9       1   \n",
       "\n",
       "                                          dmname  \\\n",
       "0  Putnam VT Capital Opportunities Fund Class IB   \n",
       "1  Putnam VT Capital Opportunities Fund Class IB   \n",
       "2  Putnam VT Capital Opportunities Fund Class IB   \n",
       "3     Putnam VT Diversified Income Fund Class IB   \n",
       "4     Putnam VT Diversified Income Fund Class IB   \n",
       "\n",
       "                                        docrawname  \n",
       "0  putnam vt capital opportunities fund  class ib  \n",
       "1  putnam vt capital opportunities fund  class ib  \n",
       "2  putnam vt capital opportunities fund  class ib  \n",
       "3     putnam vt diversified income fund  class ib  \n",
       "4     putnam vt diversified income fund  class ib  "
      ]
     },
     "metadata": {},
     "output_type": "display_data"
    },
    {
     "data": {
      "text/html": [
       "<table border=\"1\" class=\"dataframe\">\n",
       "  <thead>\n",
       "    <tr style=\"text-align: right;\">\n",
       "      <th></th>\n",
       "      <th>Unnamed: 0</th>\n",
       "      <th>docid</th>\n",
       "      <th>policyid</th>\n",
       "      <th>subaccountid</th>\n",
       "      <th>secid</th>\n",
       "      <th>status</th>\n",
       "      <th>dmname</th>\n",
       "      <th>docrawname</th>\n",
       "    </tr>\n",
       "  </thead>\n",
       "  <tbody>\n",
       "    <tr>\n",
       "      <th>0</th>\n",
       "      <td>0</td>\n",
       "      <td>168203073</td>\n",
       "      <td>VPUSA0009R</td>\n",
       "      <td>VAUSA058DQ</td>\n",
       "      <td>FVUSA04ABP</td>\n",
       "      <td>1</td>\n",
       "      <td>Putnam VT Capital Opportunities Fund Class IB</td>\n",
       "      <td>putnam vt capital opportunities fund  class ib</td>\n",
       "    </tr>\n",
       "    <tr>\n",
       "      <th>1</th>\n",
       "      <td>1</td>\n",
       "      <td>168203073</td>\n",
       "      <td>VPUSA000AQ</td>\n",
       "      <td>VAUSA058DL</td>\n",
       "      <td>FVUSA04ABP</td>\n",
       "      <td>1</td>\n",
       "      <td>Putnam VT Capital Opportunities Fund Class IB</td>\n",
       "      <td>putnam vt capital opportunities fund  class ib</td>\n",
       "    </tr>\n",
       "    <tr>\n",
       "      <th>2</th>\n",
       "      <td>2</td>\n",
       "      <td>168203073</td>\n",
       "      <td>VPUSA000G6</td>\n",
       "      <td>VAUSA058DH</td>\n",
       "      <td>FVUSA04ABP</td>\n",
       "      <td>1</td>\n",
       "      <td>Putnam VT Capital Opportunities Fund Class IB</td>\n",
       "      <td>putnam vt capital opportunities fund  class ib</td>\n",
       "    </tr>\n",
       "    <tr>\n",
       "      <th>3</th>\n",
       "      <td>0</td>\n",
       "      <td>168203073</td>\n",
       "      <td>VPUSA0009R</td>\n",
       "      <td>VAUSA00C6M</td>\n",
       "      <td>FVUSA001Q9</td>\n",
       "      <td>1</td>\n",
       "      <td>Putnam VT Diversified Income Fund Class IB</td>\n",
       "      <td>putnam vt diversified income fund  class ib</td>\n",
       "    </tr>\n",
       "    <tr>\n",
       "      <th>4</th>\n",
       "      <td>1</td>\n",
       "      <td>168203073</td>\n",
       "      <td>VPUSA000AQ</td>\n",
       "      <td>VAUSA00EFZ</td>\n",
       "      <td>FVUSA001Q9</td>\n",
       "      <td>1</td>\n",
       "      <td>Putnam VT Diversified Income Fund Class IB</td>\n",
       "      <td>putnam vt diversified income fund  class ib</td>\n",
       "    </tr>\n",
       "  </tbody>\n",
       "</table>"
      ],
      "text/plain": [
       "<IPython.core.display.HTML object>"
      ]
     },
     "metadata": {},
     "output_type": "display_data"
    }
   ],
   "source": [
    "import pandas as pd\n",
    "from IPython.display import display, HTML\n",
    "\n",
    "df = pd.read_csv('./csv/vanameextraction_168203073.csv', encoding='utf-16', sep=\"\\t\")\n",
    "for index, row in df.head().iterrows():\n",
    "    print('row: {0}, docrawname is :{1}'.format(index, row[3]))\n",
    "display(df.head())\n",
    "display(HTML(df.head().to_html()))"
   ]
  },
  {
   "cell_type": "markdown",
   "metadata": {},
   "source": [
    "99乘法表"
   ]
  },
  {
   "cell_type": "code",
   "execution_count": 19,
   "metadata": {},
   "outputs": [
    {
     "name": "stdout",
     "output_type": "stream",
     "text": [
      "1*1=1  \n",
      "1*2=2  2*2=4  \n",
      "1*3=3  2*3=6  3*3=9  \n",
      "1*4=4  2*4=8  3*4=12  4*4=16  \n",
      "1*5=5  2*5=10  3*5=15  4*5=20  5*5=25  \n",
      "1*6=6  2*6=12  3*6=18  4*6=24  5*6=30  6*6=36  \n",
      "1*7=7  2*7=14  3*7=21  4*7=28  5*7=35  6*7=42  7*7=49  \n",
      "1*8=8  2*8=16  3*8=24  4*8=32  5*8=40  6*8=48  7*8=56  8*8=64  \n",
      "1*9=9  2*9=18  3*9=27  4*9=36  5*9=45  6*9=54  7*9=63  8*9=72  9*9=81  \n"
     ]
    }
   ],
   "source": [
    "i=1\n",
    "while i<=9:\n",
    "     #里面一层循环控制每一行中的列数\n",
    "     j=1\n",
    "     while j<=i:\n",
    "          mut =j*i\n",
    "          print(\"%d*%d=%d\"%(j,i,mut), end=\"  \")\n",
    "          j+=1\n",
    "     print(\"\")\n",
    "     i+=1"
   ]
  },
  {
   "cell_type": "markdown",
   "metadata": {},
   "source": [
    "### 冒泡排序\n",
    "解析：很经典的排序方式，从数组中的第0个元素开始，与后面一个元素进行比较，如果前面的元素大于后面的元素，就调换位置，循环到最后（即：a0与a1比较得到结果后，a1与a2比较...），最大的元素被换到数组最末尾，剔除掉最后一个元素，在余下的数组元素中进行上述操作，到最后，整个数组呈现从小到大的排序"
   ]
  },
  {
   "cell_type": "code",
   "execution_count": 23,
   "metadata": {},
   "outputs": [
    {
     "name": "stdout",
     "output_type": "stream",
     "text": [
      "[41, 44, 500, 2000, 5554, 6434, 7557, 9353, 23344]\n"
     ]
    }
   ],
   "source": [
    "def paixu(li) :\n",
    "    max = 0\n",
    "    for ad in range(len(li) - 1):\n",
    "        for x in range(len(li) - 1 - ad):\n",
    "            if li[x] > li[x + 1]:\n",
    "                max = li[x]\n",
    "                li[x] = li[x + 1]\n",
    "                li[x + 1] = max\n",
    "            else:\n",
    "                max = li[x + 1]\n",
    "    print(li)\n",
    "paixu([41,23344,9353,5554,44,7557,6434,500,2000])"
   ]
  },
  {
   "cell_type": "markdown",
   "metadata": {},
   "source": [
    "很多时候，我们不需要自己写冒泡排序算法，使用sorted即可"
   ]
  },
  {
   "cell_type": "code",
   "execution_count": 24,
   "metadata": {},
   "outputs": [
    {
     "name": "stdout",
     "output_type": "stream",
     "text": [
      "[41, 44, 500, 2000, 5554, 6434, 7557, 9353, 23344]\n"
     ]
    }
   ],
   "source": [
    "print(sorted([41,23344,9353,5554,44,7557,6434,500,2000]))"
   ]
  },
  {
   "cell_type": "code",
   "execution_count": null,
   "metadata": {},
   "outputs": [],
   "source": []
  }
 ],
 "metadata": {
  "kernelspec": {
   "display_name": "Python 3",
   "language": "python",
   "name": "python3"
  },
  "language_info": {
   "codemirror_mode": {
    "name": "ipython",
    "version": 3
   },
   "file_extension": ".py",
   "mimetype": "text/x-python",
   "name": "python",
   "nbconvert_exporter": "python",
   "pygments_lexer": "ipython3",
   "version": "3.6.2"
  }
 },
 "nbformat": 4,
 "nbformat_minor": 2
}
