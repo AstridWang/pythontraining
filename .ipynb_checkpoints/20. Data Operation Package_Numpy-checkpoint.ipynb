{
 "cells": [
  {
   "cell_type": "markdown",
   "metadata": {},
   "source": [
    "# Numpy 入门及实践"
   ]
  },
  {
   "cell_type": "markdown",
   "metadata": {},
   "source": [
    "## 0. Numpy 安装"
   ]
  },
  {
   "cell_type": "markdown",
   "metadata": {},
   "source": [
    "通过如下方式可以方便安装Numpy：\n",
    "```\n",
    "pip install numpy\n",
    "```\n",
    "如果是windows系统，可以直接去这个网站: [Unofficial Windows Binaries for Python Extension Packages](https://www.lfd.uci.edu/~gohlke/pythonlibs/), 下载对应的numpy版本，如：numpy‑1.15.2+mkl‑cp36‑cp36m‑win_amd64.whl, 需要确认本地python版本，如果是3.6，那么下载这个即可。否则选择对应的版本组件。<br>\n",
    "下载完成后还是通过pip安装:\n",
    "```\n",
    "pip install yourpath/numpy‑1.15.2+mkl‑cp36‑cp36m‑win_amd64.whl\n",
    "```"
   ]
  },
  {
   "cell_type": "markdown",
   "metadata": {},
   "source": [
    "## 1. Numpy 介绍"
   ]
  },
  {
   "cell_type": "markdown",
   "metadata": {},
   "source": [
    "Numpy是在python中用于科学计算和数据操作的最基本和强大的包。<br>\n",
    "如果你打算从事数据分析或机器学习项目，那么几乎必须了解numpy的使用方式。<br>\n",
    "**numpy的许多函数不仅是用C实现了，还使用了BLAS（一般Windows下link到MKL的，Linux下link到OpenBLAS）。基本上那些BLAS实现在每种操作上都进行了高度优化，例如使用AVX向量指令集，甚至能比你自己用C实现快上许多，更不要说和用Python实现的比。**<br>\n",
    "因为其他用于数据分析的包（比如Pandas）是建立在numpy之上的，而用于构建机器学习应用程序的scikit-learn包也同样适用于numpy。<br>\n",
    "那么numpy提供了什么呢？<br>\n",
    "在核心中，numpy提供了优秀的ndarray对象，而不是n维数组。<br>\n",
    "在一个“ndarray”对象中，也就是“数组”，您可以存储同一数据类型的多个项目。它是array对象相关的基础设施，使得numpy非常方便地执行数学和数据操作。<br>\n",
    "您可能想知道，“我可以在python列表中存储数字和其他对象，并通过列表、for循环等进行各种计算和操作。我需要一个numpy数组来做什么？”<br>\n",
    "Well, 使用numpy数组的列表有非常重要的优势。<br>\n",
    "为了理解这一点，让我们首先看看如何创建一个numpy数组。<br>"
   ]
  },
  {
   "cell_type": "markdown",
   "metadata": {},
   "source": [
    "## 2. 如何创建numpy数组"
   ]
  },
  {
   "cell_type": "markdown",
   "metadata": {},
   "source": [
    "创建一个numpy数组有多种方法，本文尽可能涵盖。<br>\n",
    "然而，最常见的一种方法是传递一个列表或如同列表的对象，并以此通过```np.array```函数创建numpy数组。"
   ]
  },
  {
   "cell_type": "code",
   "execution_count": 2,
   "metadata": {},
   "outputs": [
    {
     "name": "stdout",
     "output_type": "stream",
     "text": [
      "<class 'numpy.ndarray'>\n",
      "[0 1 2 3 4]\n"
     ]
    }
   ],
   "source": [
    "import numpy as np\n",
    "# 通过list创建np.array对象\n",
    "samplelist = [0, 1, 2, 3, 4]\n",
    "arrld = np.array(samplelist)\n",
    "\n",
    "# 打印array与其对应的type\n",
    "print(type(arrld))\n",
    "print(arrld)"
   ]
  },
  {
   "cell_type": "markdown",
   "metadata": {},
   "source": [
    "数组和列表之间的关键区别在于，数组被设计用来处理矢量化操作，而python列表则不是"
   ]
  },
  {
   "cell_type": "markdown",
   "metadata": {},
   "source": [
    ">### 附注：什么是向量？\n",
    "在数学中，向量（也称为欧几里得向量、几何向量、矢量），指具有大小（magnitude）和方向的量。它可以形象化地表示为带箭头的线段。箭头所指：代表向量的方向；线段长度：代表向量的大小。与向量对应的只有大小，没有方向的量叫做数量（物理学中称标量）。<br>\n",
    "如果用R<sup>n</sup>表示n个实数的有序集，Rn中的一个向量就是一个n元有序组，R<sup>n</sup> = {(x1, x2,……xn) | xi ∈ R}<br>\n",
    "向量的记法：印刷体记作粗体的字母（如a、b、u、v），书写时在字母顶上加一小箭头“→”。如果给定向量的起点（A）和终点（B），可将向量记作  。实际上向量有多种记法，可以用元组表示一个向量，如 (x1, x2) 或 < x1, x2>。在线性代数中，n元向量可以用n×1矩阵表示，如："
   ]
  },
  {
   "cell_type": "markdown",
   "metadata": {},
   "source": [
    "<img src='./image/vector.png' />"
   ]
  },
  {
   "cell_type": "markdown",
   "metadata": {},
   "source": [
    "这意味着，如果你应用一个函数，它会在数组中的每一个item上执行，而不是在整个数组对象上执行。<br>\n",
    "假设想要将列表中的每一项都+2, 直观的方法是这样的："
   ]
  },
  {
   "cell_type": "code",
   "execution_count": 3,
   "metadata": {},
   "outputs": [
    {
     "ename": "TypeError",
     "evalue": "can only concatenate list (not \"int\") to list",
     "output_type": "error",
     "traceback": [
      "\u001b[1;31m---------------------------------------------------------------------------\u001b[0m",
      "\u001b[1;31mTypeError\u001b[0m                                 Traceback (most recent call last)",
      "\u001b[1;32m<ipython-input-3-ebf4059b384a>\u001b[0m in \u001b[0;36m<module>\u001b[1;34m()\u001b[0m\n\u001b[1;32m----> 1\u001b[1;33m \u001b[0msamplelist\u001b[0m \u001b[1;33m=\u001b[0m \u001b[0msamplelist\u001b[0m \u001b[1;33m+\u001b[0m \u001b[1;36m2\u001b[0m\u001b[1;33m\u001b[0m\u001b[0m\n\u001b[0m",
      "\u001b[1;31mTypeError\u001b[0m: can only concatenate list (not \"int\") to list"
     ]
    }
   ],
   "source": [
    "# 这个操作会报错\n",
    "samplelist = samplelist + 2"
   ]
  },
  {
   "cell_type": "markdown",
   "metadata": {},
   "source": [
    "但是可以通过ndarray完成这个操作："
   ]
  },
  {
   "cell_type": "code",
   "execution_count": 4,
   "metadata": {},
   "outputs": [
    {
     "name": "stdout",
     "output_type": "stream",
     "text": [
      "[2 3 4 5 6]\n"
     ]
    }
   ],
   "source": [
    "print(arrld + 2)"
   ]
  },
  {
   "cell_type": "markdown",
   "metadata": {},
   "source": [
    "另一个特点是，一旦创建了numpy数组，就不能扩展它的大小。<br>\n",
    "要做到这一点，您必须创建一个新的数组。但是这种扩展大小的行为在列表中是很自然的。<br>\n",
    "这就是numpy中的1d数组，这个看似很简单。<br>\n",
    "不过还可以通过一个复合列表来创建一个类似于2d数组的矩阵。<br>\n",
    "注意打印list与打印ndarray的显示区别，numpy的ndarray其实是矩阵的概念"
   ]
  },
  {
   "cell_type": "code",
   "execution_count": 6,
   "metadata": {},
   "outputs": [
    {
     "name": "stdout",
     "output_type": "stream",
     "text": [
      "[[0, 1, 2], [3, 4, 5], [6, 7, 8]]\n",
      "[[0 1 2]\n",
      " [3 4 5]\n",
      " [6 7 8]]\n"
     ]
    }
   ],
   "source": [
    "# 根据复合列表创建2d array\n",
    "list2d = [[0, 1, 2], [3, 4, 5], [6, 7, 8]]\n",
    "print(list2d)\n",
    "arr2d = np.array(list2d)\n",
    "print(arr2d)"
   ]
  },
  {
   "cell_type": "markdown",
   "metadata": {},
   "source": [
    "你也可以通过设置dtype参数来指定数据类型。一些最常用的numpy dtype是：“float”、“int”、“bool”、“str”和“object”。<br>\n",
    "为了控制内存分配，你可以选择使用“float32”、“float64”、“int8”、“int16”或“int32”。"
   ]
  },
  {
   "cell_type": "code",
   "execution_count": 10,
   "metadata": {},
   "outputs": [
    {
     "name": "stdout",
     "output_type": "stream",
     "text": [
      "[[0. 1. 2.]\n",
      " [3. 4. 5.]\n",
      " [6. 7. 8.]]\n"
     ]
    }
   ],
   "source": [
    "# Create a float 2d array\n",
    "arr2d_f = np.array(list2d, dtype='float')\n",
    "print(arr2d_f)"
   ]
  },
  {
   "cell_type": "markdown",
   "metadata": {},
   "source": [
    "每个数字后面的小数点表示浮动数据类型，还可以使用astype方法将其转换为不同的数据类型。"
   ]
  },
  {
   "cell_type": "code",
   "execution_count": 12,
   "metadata": {},
   "outputs": [
    {
     "name": "stdout",
     "output_type": "stream",
     "text": [
      "[[0 1 2]\n",
      " [3 4 5]\n",
      " [6 7 8]]\n"
     ]
    }
   ],
   "source": [
    "# Convert to 'int' datatype\n",
    "arr2d_i = arr2d_f.astype('int')\n",
    "\n",
    "print(arr2d_i)"
   ]
  },
  {
   "cell_type": "code",
   "execution_count": 13,
   "metadata": {},
   "outputs": [
    {
     "name": "stdout",
     "output_type": "stream",
     "text": [
      "[['0' '1' '2']\n",
      " ['3' '4' '5']\n",
      " ['6' '7' '8']]\n"
     ]
    }
   ],
   "source": [
    "# Convert to int then to str datatype\n",
    "arr2d_s = arr2d_f.astype('int').astype('str')\n",
    "print(arr2d_s)"
   ]
  },
  {
   "cell_type": "markdown",
   "metadata": {},
   "source": [
    "一个numpy数组必须具有相同数据类型的所有条目，这是与列表相比，另一个显著的区别。<br>\n",
    "但是，如果不确定数组将持有何种数据类型，或者想要在同一个数组中共存字符和数字，可以将dtype设置为“object”。"
   ]
  },
  {
   "cell_type": "code",
   "execution_count": 14,
   "metadata": {},
   "outputs": [
    {
     "name": "stdout",
     "output_type": "stream",
     "text": [
      "[ True False  True]\n"
     ]
    }
   ],
   "source": [
    "# Create a boolean array\n",
    "arr2d_b = np.array([1, 0, 10], dtype='bool')\n",
    "print(arr2d_b)"
   ]
  },
  {
   "cell_type": "code",
   "execution_count": 15,
   "metadata": {},
   "outputs": [
    {
     "name": "stdout",
     "output_type": "stream",
     "text": [
      "[1 'a']\n"
     ]
    }
   ],
   "source": [
    "arr1d_obj = np.array([1, 'a'], dtype='object')\n",
    "print(arr1d_obj)"
   ]
  },
  {
   "cell_type": "markdown",
   "metadata": {},
   "source": [
    "最终，可以通过```tolist()```方法，将numpy的ndarray对象，转换回python的list对象"
   ]
  },
  {
   "cell_type": "code",
   "execution_count": 16,
   "metadata": {},
   "outputs": [
    {
     "name": "stdout",
     "output_type": "stream",
     "text": [
      "[1, 'a']\n"
     ]
    }
   ],
   "source": [
    "print(arr1d_obj.tolist())"
   ]
  },
  {
   "cell_type": "markdown",
   "metadata": {},
   "source": [
    "以下是numpy的数组(ndarray)与python list的主要区别：\n",
    ">* ndarray支持矢量化操作，而list则不支持。\n",
    "* 一旦创建了ndarray，就不能改变它的大小。将不得不创建一个新的ndarray或覆盖现有的ndarray。\n",
    "* 每个ndarray都有一个且只有一个dtype。所有的items都应该是dtype。\n",
    "* 一个等价的numpy ndarray占用的空间比python列表的要少得多。"
   ]
  },
  {
   "cell_type": "markdown",
   "metadata": {},
   "source": [
    "## 3. 如何检查numpy array的大小和形状？"
   ]
  },
  {
   "cell_type": "markdown",
   "metadata": {},
   "source": [
    "每个数组都有一些我想要理解的属性，以便了解数组。<br>\n",
    "让我们考虑一下刚刚创建的2维数组。因为它是由2维列表创建的，所以它有两个维度，可以显示为行和列，就像在矩阵中一样。<br>\n",
    "如果我从3维列表创建数组，它会有三个维度，就像在一个立方体中一样。等等。<br>\n",
    "让我们假设你得到了一个不是你亲自创建的numpy向量。为了了解这个数组，你想要探索的是什么？<br>\n",
    "好吧，我想知道：\n",
    "* 它有多少维度：1维，2维，...，n维(ndim)\n",
    "* 每个dimension（shape）有多少items\n",
    "* 它的数据类型（dtype）是什么？\n",
    "* 它的总数量（size）是多少？\n",
    "* 数组中的前几个items（通过索引）的样本"
   ]
  },
  {
   "cell_type": "code",
   "execution_count": 24,
   "metadata": {},
   "outputs": [
    {
     "name": "stdout",
     "output_type": "stream",
     "text": [
      "[[1. 2. 3. 4.]\n",
      " [3. 4. 5. 6.]\n",
      " [5. 6. 7. 8.]]\n",
      "Shape:  (3, 4)\n",
      "Datatype:  float64\n",
      "Size:  12\n",
      "Num Dimensions:  2\n"
     ]
    }
   ],
   "source": [
    "# Create a 2d array with 3 rows and 4 columns\n",
    "list2 = [[1, 2, 3, 4],[3, 4, 5, 6], [5, 6, 7, 8]]\n",
    "arr2 = np.array(list2, dtype='float')\n",
    "print(arr2)\n",
    "# shape\n",
    "print('Shape: ', arr2.shape)\n",
    "\n",
    "# dtype\n",
    "print('Datatype: ', arr2.dtype)\n",
    "\n",
    "# size\n",
    "print('Size: ', arr2.size)\n",
    "\n",
    "# ndim\n",
    "print('Num Dimensions: ', arr2.ndim)"
   ]
  },
  {
   "cell_type": "code",
   "execution_count": 25,
   "metadata": {},
   "outputs": [
    {
     "name": "stdout",
     "output_type": "stream",
     "text": [
      "[[[1. 2.]\n",
      "  [3. 4.]]\n",
      "\n",
      " [[3. 4.]\n",
      "  [5. 6.]]\n",
      "\n",
      " [[5. 6.]\n",
      "  [7. 8.]]]\n",
      "Shape:  (3, 2, 2)\n",
      "Datatype:  float64\n",
      "Size:  12\n",
      "Num Dimensions:  3\n"
     ]
    }
   ],
   "source": [
    "# Create a 3d array\n",
    "list3 = [[[1, 2], [3, 4]],[[3, 4], [5, 6]], [[5, 6], [7, 8]]]\n",
    "arr3 = np.array(list3, dtype='float')\n",
    "print(arr3)\n",
    "# shape\n",
    "print('Shape: ', arr3.shape)\n",
    "\n",
    "# dtype\n",
    "print('Datatype: ', arr3.dtype)\n",
    "\n",
    "# size\n",
    "print('Size: ', arr3.size)\n",
    "\n",
    "# ndim\n",
    "print('Num Dimensions: ', arr3.ndim)"
   ]
  },
  {
   "cell_type": "markdown",
   "metadata": {},
   "source": [
    "## 4. 如何从一个array中抽取特定的items？"
   ]
  },
  {
   "cell_type": "markdown",
   "metadata": {},
   "source": [
    "以arr2为例："
   ]
  },
  {
   "cell_type": "code",
   "execution_count": 26,
   "metadata": {},
   "outputs": [
    {
     "name": "stdout",
     "output_type": "stream",
     "text": [
      "[[1. 2. 3. 4.]\n",
      " [3. 4. 5. 6.]\n",
      " [5. 6. 7. 8.]]\n"
     ]
    }
   ],
   "source": [
    "print(arr2)"
   ]
  },
  {
   "cell_type": "markdown",
   "metadata": {},
   "source": [
    "您可以使用从0开始的索引来提取数组的特定部分，类似于如何处理python列表。<br>\n",
    "但是与列表不同的是，numpy数组可以选择性地接受方括号中的许多参数，因为有多个维度。"
   ]
  },
  {
   "cell_type": "code",
   "execution_count": 31,
   "metadata": {},
   "outputs": [
    {
     "name": "stdout",
     "output_type": "stream",
     "text": [
      "[[1. 2. 3. 4.]\n",
      " [3. 4. 5. 6.]]\n",
      "\n",
      "[[1. 2.]\n",
      " [3. 4.]]\n"
     ]
    },
    {
     "ename": "TypeError",
     "evalue": "list indices must be integers or slices, not tuple",
     "output_type": "error",
     "traceback": [
      "\u001b[1;31m---------------------------------------------------------------------------\u001b[0m",
      "\u001b[1;31mTypeError\u001b[0m                                 Traceback (most recent call last)",
      "\u001b[1;32m<ipython-input-31-2bdb320b9f0e>\u001b[0m in \u001b[0;36m<module>\u001b[1;34m()\u001b[0m\n\u001b[0;32m      3\u001b[0m \u001b[0mprint\u001b[0m\u001b[1;33m(\u001b[0m\u001b[1;33m)\u001b[0m\u001b[1;33m\u001b[0m\u001b[0m\n\u001b[0;32m      4\u001b[0m \u001b[0mprint\u001b[0m\u001b[1;33m(\u001b[0m\u001b[0marr2\u001b[0m\u001b[1;33m[\u001b[0m\u001b[1;33m:\u001b[0m\u001b[1;36m2\u001b[0m\u001b[1;33m,\u001b[0m \u001b[1;33m:\u001b[0m\u001b[1;36m2\u001b[0m\u001b[1;33m]\u001b[0m\u001b[1;33m)\u001b[0m\u001b[1;33m\u001b[0m\u001b[0m\n\u001b[1;32m----> 5\u001b[1;33m \u001b[0mprint\u001b[0m\u001b[1;33m(\u001b[0m\u001b[0mlist2\u001b[0m\u001b[1;33m[\u001b[0m\u001b[1;33m:\u001b[0m\u001b[1;36m2\u001b[0m\u001b[1;33m,\u001b[0m \u001b[1;33m:\u001b[0m\u001b[1;36m2\u001b[0m\u001b[1;33m]\u001b[0m\u001b[1;33m)\u001b[0m  \u001b[1;31m# error\u001b[0m\u001b[1;33m\u001b[0m\u001b[0m\n\u001b[0m",
      "\u001b[1;31mTypeError\u001b[0m: list indices must be integers or slices, not tuple"
     ]
    }
   ],
   "source": [
    "# Extract the first 2 rows and columns\n",
    "# 获取前两行数据\n",
    "print(arr2[:2])\n",
    "print()\n",
    "# 获取前两行的前两列数据\n",
    "print(arr2[:2, :2])\n",
    "print(list2[:2, :2])  # error"
   ]
  },
  {
   "cell_type": "markdown",
   "metadata": {},
   "source": [
    "另外，numpy数组支持布尔索引。<br>\n",
    "一个布尔索引数组与数组被过滤的shape是相同的，它只包含True和False。与True positions相对应的值保留在输出中。"
   ]
  },
  {
   "cell_type": "code",
   "execution_count": 33,
   "metadata": {},
   "outputs": [
    {
     "name": "stdout",
     "output_type": "stream",
     "text": [
      "[[1. 2. 3. 4.]\n",
      " [3. 4. 5. 6.]\n",
      " [5. 6. 7. 8.]]\n",
      "\n",
      "[[False False False False]\n",
      " [False False  True  True]\n",
      " [ True  True  True  True]]\n"
     ]
    }
   ],
   "source": [
    "# Get the boolean output by applying the condition to each element.\n",
    "b = arr2 > 4\n",
    "print(arr2)\n",
    "print()\n",
    "print(b)"
   ]
  },
  {
   "cell_type": "code",
   "execution_count": null,
   "metadata": {},
   "outputs": [],
   "source": []
  }
 ],
 "metadata": {
  "kernelspec": {
   "display_name": "Python 3",
   "language": "python",
   "name": "python3"
  },
  "language_info": {
   "codemirror_mode": {
    "name": "ipython",
    "version": 3
   },
   "file_extension": ".py",
   "mimetype": "text/x-python",
   "name": "python",
   "nbconvert_exporter": "python",
   "pygments_lexer": "ipython3",
   "version": "3.6.2"
  }
 },
 "nbformat": 4,
 "nbformat_minor": 2
}
