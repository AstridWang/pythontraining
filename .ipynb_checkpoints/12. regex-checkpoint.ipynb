{
 "cells": [
  {
   "cell_type": "markdown",
   "metadata": {},
   "source": [
    "# Regex （正则表达式）\n",
    "## 本文目标\n",
    "本文目标让你明白正则表达式是什么？并对其有一些基本了解，可以在自己的程序或网页中使用它。<br>\n",
    "如果听说过机器学习的一个分支：NLP，即自然语言处理，正则表达式，正是NLP的开山斧。"
   ]
  },
  {
   "cell_type": "markdown",
   "metadata": {},
   "source": [
    "## 如何使用本教程"
   ]
  },
  {
   "cell_type": "markdown",
   "metadata": {},
   "source": [
    "正则表达式一般的写法充斥着大量的(),[],{},\\\\,/，,\\*, ^, $等字符，不过别被这些复杂的表达式吓倒，只要跟着我一步步来，会发现正则表达式其实没有想象中的那么难。<br>\n",
    "当然，如果你看完了这篇教程之后，发现自己明白了很多，却又几乎什么都记不得，那也是很正常的——我认为，没接触过正则表达式的人在看完这篇教程后，能把提到过的语法记住80%以上的可能性为零。<br>\n",
    "这里只是让你明白基本的原理，以后你还需要多练习，多使用，才能熟练掌握正则表达式。<br>\n",
    "除了作为入门教程之外，本文还试图成为可以在日常工作中使用的正则表达式语法参考手册。就本人的经历来说，这个目标还是完成得不错的——你看，我自己也没能把所有的东西记下来，不是吗？"
   ]
  }
 ],
 "metadata": {
  "kernelspec": {
   "display_name": "Python 3",
   "language": "python",
   "name": "python3"
  },
  "language_info": {
   "codemirror_mode": {
    "name": "ipython",
    "version": 3
   },
   "file_extension": ".py",
   "mimetype": "text/x-python",
   "name": "python",
   "nbconvert_exporter": "python",
   "pygments_lexer": "ipython3",
   "version": "3.6.2"
  }
 },
 "nbformat": 4,
 "nbformat_minor": 2
}
