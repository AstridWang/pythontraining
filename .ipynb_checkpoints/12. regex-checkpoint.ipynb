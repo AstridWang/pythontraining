{
 "cells": [
  {
   "cell_type": "markdown",
   "metadata": {},
   "source": [
    "# Regex （正则表达式）\n",
    "## 本文目标\n",
    "本文目标让你明白正则表达式是什么？并对其有一些基本了解，可以在自己的程序或网页中使用它。<br>\n",
    "如果听说过机器学习的一个分支：NLP，即自然语言处理，正则表达式，正是NLP的开山斧。"
   ]
  },
  {
   "cell_type": "markdown",
   "metadata": {},
   "source": [
    "## 如何使用本教程"
   ]
  },
  {
   "cell_type": "markdown",
   "metadata": {},
   "source": [
    "正则表达式一般的写法充斥着大量的(),[],{},\\\\,/，,\\*, ^, $等字符，不过别被这些复杂的表达式吓倒，只要跟着我一步步来，会发现正则表达式其实没有想象中的那么难。<br>\n",
    "当然，如果你看完了这篇教程之后，发现自己明白了很多，却又几乎什么都记不得，那也是很正常的——我认为，没接触过正则表达式的人在看完这篇教程后，能把提到过的语法记住80%以上的可能性为零。<br>\n",
    "这里只是让你明白基本的原理，以后你还需要多练习，多使用，才能熟练掌握正则表达式。<br>\n",
    "除了作为入门教程之外，本文还试图成为可以在日常工作中使用的正则表达式语法参考手册。就本人的经历来说，这个目标还是完成得不错的——你看，我自己也没能把所有的东西记下来，不是吗？"
   ]
  },
  {
   "cell_type": "markdown",
   "metadata": {},
   "source": [
    "## 正则表达式到底是什么东西？"
   ]
  },
  {
   "cell_type": "markdown",
   "metadata": {},
   "source": [
    "在编写处理字符串的程序或网页时，经常会有查找符合某些复杂规则的字符串的需要。正则表达式就是用于描述这些规则的工具。换句话说，正则表达式就是记录文本规则的代码。\n",
    "\n",
    "很可能你使用过Windows/Dos下用于文件查找的通配符(wildcard)，也就是*和?。如果你想查找某个目录下的所有的Word文档的话，你会搜索*.doc。在这里，*会被解释成任意的字符串。和通配符类似，正则表达式也是用来进行文本匹配的工具，只不过比起通配符，它能更精确地描述你的需求——当然，代价就是更复杂——比如你可以编写一个正则表达式，用来查找所有以0开头，后面跟着2-3个数字，然后是一个连字号\"-\"，最后是7或8位数字的字符串(像010-12345678或0376-7654321)。"
   ]
  },
  {
   "cell_type": "markdown",
   "metadata": {},
   "source": [
    "## 入门"
   ]
  },
  {
   "cell_type": "markdown",
   "metadata": {},
   "source": [
    "学习正则表达式的最好方法是从例子开始，理解例子之后再自己对例子进行修改，实验。下面给出了不少简单的例子，并对它们作了详细的说明。\n",
    "\n",
    "假设你在一篇英文小说里查找hi，你可以使用正则表达式hi。\n",
    "\n",
    "这几乎是最简单的正则表达式了，它可以精确匹配这样的字符串：由两个字符组成，前一个字符是h，后一个是i。通常，处理正则表达式的工具会提供一个忽略大小写的选项，如果选中了这个选项，它可以匹配hi,HI,Hi,hI这四种情况中的任意一种。\n",
    "\n",
    "不幸的是，很多单词里包含hi这两个连续的字符，比如him,history,high等等。用hi来查找的话，这里边的hi也会被找出来。如果要精确地查找hi这个单词的话，我们应该使用\\bhi\\b。\n",
    "\n",
    "\\b是正则表达式规定的一个特殊代码（好吧，某些人叫它元字符，metacharacter），代表着单词的开头或结尾，也就是单词的分界处。虽然通常英文的单词是由空格，标点符号或者换行来分隔的，但是\\b并不匹配这些单词分隔字符中的任何一个，它只匹配一个位置。\n",
    "\n",
    "假如你要找的是hi后面不远处跟着一个Lucy，你应该用\\bhi\\b.\\*\\bLucy\\b。\n",
    "\n",
    "这里，.是另一个元字符，匹配除了换行符以外的任意字符。*同样是元字符，不过它代表的不是字符，也不是位置，而是数量——它指定*前边的内容可以连续重复使用任意次以使整个表达式得到匹配。因此，.\\*连在一起就意味着任意数量的不包含换行的字符。现在\\bhi\\b.\\*\\bLucy\\b的意思就很明显了：先是一个单词hi,然后是任意个任意字符(但不能是换行)，最后是Lucy这个单词。"
   ]
  },
  {
   "cell_type": "code",
   "execution_count": 13,
   "metadata": {},
   "outputs": [],
   "source": [
    "import re"
   ]
  },
  {
   "cell_type": "code",
   "execution_count": 14,
   "metadata": {},
   "outputs": [],
   "source": [
    "def getretext(keyword, text):\n",
    "    pattern = re.compile(keyword, re.I)\n",
    "    return pattern.findall(text)"
   ]
  },
  {
   "cell_type": "code",
   "execution_count": 17,
   "metadata": {},
   "outputs": [
    {
     "name": "stdout",
     "output_type": "stream",
     "text": [
      "['Hi']\n",
      "['Hi, him, Lucy']\n",
      "['Hi', 'hi', 'hi']\n"
     ]
    }
   ],
   "source": [
    "text = r'Hi, him, Lucy, history'\n",
    "keyword = r'\\bhi\\b'\n",
    "print(getretext(keyword, text))\n",
    "keyword = r'\\bhi\\b.*\\bLucy\\b'\n",
    "print(getretext(keyword, text))\n",
    "keyword = r'hi'\n",
    "print(getretext(keyword, text))"
   ]
  },
  {
   "cell_type": "markdown",
   "metadata": {},
   "source": [
    "如果同时使用其它元字符，我们就能构造出功能更强大的正则表达式。比如下面这个例子：\n",
    "\n",
    "0\\d\\d-\\d\\d\\d\\d\\d\\d\\d\\d匹配这样的字符串：以0开头，然后是两个数字，然后是一个连字号\"-\"，最后是8个数字(也就是中国的电话号码。当然，这个例子只能匹配区号为3位的情形)。\n",
    "\n",
    "这里的\\d是个新的元字符，匹配一位数字(0，或1，或2，或……)。-不是元字符，只匹配它本身——连字符(或者减号，或者中横线，或者随你怎么称呼它)。\n",
    "\n",
    "为了避免那么多烦人的重复，我们也可以这样写这个表达式：0\\d{2}-\\d{8}。这里\\d后面的{2}({8})的意思是前面\\d必须连续重复匹配2次(8次)。"
   ]
  },
  {
   "cell_type": "code",
   "execution_count": 18,
   "metadata": {},
   "outputs": [
    {
     "name": "stdout",
     "output_type": "stream",
     "text": [
      "['021-12345678']\n"
     ]
    }
   ],
   "source": [
    "text = '021-12345678'\n",
    "keyword = r'0\\d{2}-\\d{8}'\n",
    "print(getretext(text=text, keyword=keyword))"
   ]
  },
  {
   "cell_type": "markdown",
   "metadata": {},
   "source": [
    "## 测试正则表达式\n",
    "如果你不觉得正则表达式很难读写的话，要么你是一个天才，要么，你不是地球人。正则表达式的语法很令人头疼，即使对经常使用它的人来说也是如此。由于难于读写，容易出错，所以找一种工具对正则表达式进行测试是很有必要的。\n",
    "\n",
    "不同的环境下正则表达式的一些细节是不相同的，这里介绍两种可用的免费测试工具"
   ]
  },
  {
   "cell_type": "markdown",
   "metadata": {},
   "source": [
    "[免费的regex matcher tracer](http://www.regexlab.com/zh/mtracer/)\n",
    "![截图示例](./image/2018-08-12 16_43_52-Untitled - Regex Match Tracer.png)"
   ]
  },
  {
   "cell_type": "markdown",
   "metadata": {},
   "source": [
    "[免费的正则在线工具](https://tool.lu/regex/)\n",
    "![截图示例](./image/2018-08-12 16_44_53-正则表达式测试工具.png)"
   ]
  },
  {
   "cell_type": "markdown",
   "metadata": {},
   "source": [
    "## 元字符\n",
    "现在你已经知道几个很有用的元字符了，如\\b,.,\\*，还有\\d.正则表达式里还有更多的元字符，比如\\s匹配任意的空白符，包括空格，制表符(Tab)，换行符，中文全角空格等。\\w匹配字母或数字或下划线或汉字等。\n",
    "\n",
    "下面来看看更多的例子：\n",
    "\n",
    "\\ba\\w\\*\\b匹配以字母a开头的单词——先是某个单词开始处(\\b)，然后是字母a,然后是任意数量的字母或数字(\\w\\*)，最后是单词结束处(\\b)。\n",
    "\n",
    "注：好吧，现在我们说说正则表达式里的单词是什么意思吧：就是不少于一个的连续的\\w。不错，这与学习英文时要背的成千上万个同名的东西的确关系不大 :)\n",
    "\n",
    "\\d+匹配1个或更多连续的数字。这里的+是和\\*类似的元字符，不同的是\\*匹配重复任意次(可能是0次)，而+则匹配重复1次或更多次。\n",
    "\n",
    "\\b\\w{6}\\b 匹配刚好6个字符的单词。"
   ]
  },
  {
   "cell_type": "code",
   "execution_count": 21,
   "metadata": {},
   "outputs": [
    {
     "name": "stdout",
     "output_type": "stream",
     "text": [
      "['arena1234']\n",
      "['python']\n"
     ]
    }
   ],
   "source": [
    "text = r'arena1234 Mike'\n",
    "keyword = r'\\ba\\w*\\b'\n",
    "print(getretext(keyword, text))\n",
    "\n",
    "text = 'python is a word with 6 characters.'\n",
    "keyword = r'\\b\\w{6}\\b'\n",
    "print(getretext(keyword, text))"
   ]
  },
  {
   "cell_type": "markdown",
   "metadata": {},
   "source": [
    "### 常用的元字符\n",
    "![常用的元字符](./image/2018-08-12 16_54_51-正则表达式30分钟入门教程.png)\n"
   ]
  },
  {
   "cell_type": "markdown",
   "metadata": {},
   "source": [
    "注：正则表达式引擎通常会提供一个\"测试指定的字符串是否匹配一个正则表达式\"的方法。这里的匹配是指是字符串里有没有符合表达式规则的部分。如果不使用^和\\$的话，对于\\d{5,12}而言，使用这样的方法就只能保证字符串里包含5到12连续位数字，而不是整个字符串就是5到12位数字。\n",
    "\n",
    "元字符^（和数字6在同一个键位上的符号）和\\$都匹配一个位置，这和\\b有点类似。^匹配你要用来查找的字符串的开头，$匹配结尾。这两个代码在验证输入的内容时非常有用。\n",
    "\n",
    "比如一个网站如果要求你填写的QQ号必须为5位到12位数字时，可以使用：^\\d\\{5,12\\}$\n",
    "\n",
    "这里的{5,12}和前面介绍过的{2}是类似的，只不过{2}匹配只能不多不少重复2次，{5,12}则是重复的次数不能少于5次，不能多于12次，否则都不匹配。\n",
    "\n",
    "因为使用了^和\\$，所以输入的整个字符串都要用来和\\d{5,12}来匹配，也就是说整个输入必须是5到12个数字，因此如果输入的QQ号能匹配这个正则表达式的话，那就符合要求了。\n",
    "\n",
    "和忽略大小写的选项类似，有些正则表达式处理工具还有一个处理多行的选项。如果选中了这个选项，^和\\$的意义就变成了匹配行的开始处和结束处。"
   ]
  },
  {
   "cell_type": "code",
   "execution_count": 58,
   "metadata": {},
   "outputs": [
    {
     "name": "stdout",
     "output_type": "stream",
     "text": [
      "['12345622', '123456']\n"
     ]
    }
   ],
   "source": [
    "text = r'hello12345622key 123456key'\n",
    "containnumber = r'\\d{5,12}'\n",
    "print(getretext(containnumber, text))"
   ]
  },
  {
   "cell_type": "code",
   "execution_count": 57,
   "metadata": {},
   "outputs": [
    {
     "name": "stdout",
     "output_type": "stream",
     "text": [
      "['8019068']\n",
      "[]\n"
     ]
    }
   ],
   "source": [
    "righttext = r'8019068'\n",
    "mustbenumber = r'^\\d{5,12}$'\n",
    "print(getretext(mustbenumber, righttext))\n",
    "wrongtext = r'8019068myqq 12345678'\n",
    "print(getretext(mustbenumber, wrongtext))"
   ]
  },
  {
   "cell_type": "markdown",
   "metadata": {},
   "source": [
    "### 字符转义\n"
   ]
  }
 ],
 "metadata": {
  "kernelspec": {
   "display_name": "Python 3",
   "language": "python",
   "name": "python3"
  },
  "language_info": {
   "codemirror_mode": {
    "name": "ipython",
    "version": 3
   },
   "file_extension": ".py",
   "mimetype": "text/x-python",
   "name": "python",
   "nbconvert_exporter": "python",
   "pygments_lexer": "ipython3",
   "version": "3.6.2"
  }
 },
 "nbformat": 4,
 "nbformat_minor": 2
}
