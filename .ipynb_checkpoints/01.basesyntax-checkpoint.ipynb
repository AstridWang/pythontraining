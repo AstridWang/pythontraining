{
 "cells": [
  {
   "cell_type": "markdown",
   "metadata": {},
   "source": [
    "# 编码\n",
    "默认情况下，Python3 源码文件以UTF-8编码，所有字符串都是unicode字符串。当然也可以为源文件指定不同的编码"
   ]
  },
  {
   "cell_type": "code",
   "execution_count": 6,
   "metadata": {},
   "outputs": [],
   "source": [
    "# -*- coding: cp-1252 -*-"
   ]
  },
  {
   "cell_type": "markdown",
   "metadata": {},
   "source": [
    "# 标识符\n",
    "1. 第一个字符必须是字母表中字母或下划线 _ 。\n",
    "2. 标识符的其他的部分由字母、数字和下划线组成。\n",
    "3. 标识符对大小写敏感。\n",
    "4. 非ASCII标识符也是允许的了"
   ]
  },
  {
   "cell_type": "code",
   "execution_count": 8,
   "metadata": {},
   "outputs": [
    {
     "name": "stdout",
     "output_type": "stream",
     "text": [
      "32支参赛队\n"
     ]
    }
   ],
   "source": [
    "世界杯2018 = '32支参赛队'\n",
    "print(世界杯2018)"
   ]
  },
  {
   "cell_type": "markdown",
   "metadata": {},
   "source": [
    "# python保留字\n",
    "保留字即关键字，我们不能把它们用作任何标识符名称。Python 的标准库提供了一个 keyword 模块，可以输出当前版本的所有关键字"
   ]
  },
  {
   "cell_type": "code",
   "execution_count": 4,
   "metadata": {},
   "outputs": [
    {
     "name": "stdout",
     "output_type": "stream",
     "text": [
      "['False', 'None', 'True', 'and', 'as', 'assert', 'break', 'class', 'continue', 'def', 'del', 'elif', 'else', 'except', 'finally', 'for', 'from', 'global', 'if', 'import', 'in', 'is', 'lambda', 'nonlocal', 'not', 'or', 'pass', 'raise', 'return', 'try', 'while', 'with', 'yield']\n"
     ]
    }
   ],
   "source": [
    "import keyword\n",
    "print(keyword.kwlist)"
   ]
  },
  {
   "cell_type": "markdown",
   "metadata": {},
   "source": [
    "# 注释\n",
    "1. 单行注释以#开头\n",
    "2. 多行注释可以有多个#号，还有'''和\"\"\""
   ]
  },
  {
   "cell_type": "code",
   "execution_count": 10,
   "metadata": {},
   "outputs": [
    {
     "data": {
      "text/plain": [
       "'\\nWinter is coming!\\n'"
      ]
     },
     "execution_count": 10,
     "metadata": {},
     "output_type": "execute_result"
    }
   ],
   "source": [
    "# 第一个注释\n",
    "# 第二个注释\n",
    "'''\n",
    "You know nothing, Jon Snow.\n",
    "'''\n",
    "\"\"\"\n",
    "Winter is coming!\n",
    "\"\"\""
   ]
  },
  {
   "cell_type": "markdown",
   "metadata": {},
   "source": [
    "# 行与缩进\n",
    "1. python最具特色的就是使用缩进来表示代码块，不需要使用大括号 {} 。\n",
    "2. 缩进的空格数是可变的，但是同一个代码块的语句必须包含相同的缩进空格数\n",
    "3. 缩进必须一致，否则会报错"
   ]
  },
  {
   "cell_type": "code",
   "execution_count": 11,
   "metadata": {},
   "outputs": [
    {
     "name": "stdout",
     "output_type": "stream",
     "text": [
      "True\n"
     ]
    }
   ],
   "source": [
    "if True:\n",
    "    print('True')\n",
    "else:\n",
    "    print(\"False\")"
   ]
  },
  {
   "cell_type": "code",
   "execution_count": 14,
   "metadata": {},
   "outputs": [
    {
     "ename": "IndentationError",
     "evalue": "expected an indented block (<ipython-input-14-06ec62a09bbf>, line 2)",
     "output_type": "error",
     "traceback": [
      "\u001b[1;36m  File \u001b[1;32m\"<ipython-input-14-06ec62a09bbf>\"\u001b[1;36m, line \u001b[1;32m2\u001b[0m\n\u001b[1;33m    print('True')\u001b[0m\n\u001b[1;37m        ^\u001b[0m\n\u001b[1;31mIndentationError\u001b[0m\u001b[1;31m:\u001b[0m expected an indented block\n"
     ]
    }
   ],
   "source": [
    "if True:\n",
    "print('True')\n",
    "else:\n",
    "    print(\"False\")"
   ]
  },
  {
   "cell_type": "markdown",
   "metadata": {},
   "source": [
    "# 多行语句\n",
    "可以使用反斜杠\\来实现多行语句。\n",
    "学会这个很重要，否则代码太长很难读"
   ]
  },
  {
   "cell_type": "code",
   "execution_count": 16,
   "metadata": {},
   "outputs": [
    {
     "name": "stdout",
     "output_type": "stream",
     "text": [
      "6\n"
     ]
    }
   ],
   "source": [
    "a, b, c = 1, 2, 3\n",
    "total = a + \\\n",
    "            b + \\\n",
    "            c\n",
    "print(total)"
   ]
  },
  {
   "cell_type": "markdown",
   "metadata": {},
   "source": [
    "在 [], {}, 或 () 中的多行语句，不需要使用反斜杠(\\)，一般每一行末尾是逗号"
   ]
  },
  {
   "cell_type": "code",
   "execution_count": 18,
   "metadata": {},
   "outputs": [
    {
     "name": "stdout",
     "output_type": "stream",
     "text": [
      "['itemone', 'itemtwo', 'itemthree']\n"
     ]
    }
   ],
   "source": [
    "total = ['itemone',\n",
    "         'itemtwo',\n",
    "         'itemthree']\n",
    "print(total)"
   ]
  },
  {
   "cell_type": "markdown",
   "metadata": {},
   "source": [
    "# 数字(number)类型\n",
    "python中数字有四种类型：整数、布尔型、浮点数和复数。\n",
    "\n",
    "1. int (整数), 如 1, 只有一种整数类型 int，表示为长整型，没有 python2 中的 Long。\n",
    "2. bool (布尔), 如 True。\n",
    "3. float (浮点数), 如 1.23、3E-2\n",
    "4. complex (复数), 如 1 + 2j、 1.1 + 2.2j"
   ]
  },
  {
   "cell_type": "markdown",
   "metadata": {},
   "source": [
    "# 字符串 (string)\n",
    "1. python中单引号和双引号使用完全相同。\n",
    "2. 使用三引号('''或\"\"\")可以指定一个多行字符串。\n",
    "3. 转义符 '\\'\n",
    "4. 反斜杠可以用来转义，使用r可以让反斜杠不发生转义。。 如 r\"this is a line with \\n\" 则\\n会显示，并不是换行。\n",
    "5. 按字面意义级联字符串，如\"this \" \"is \" \"string\"会被自动转换为this is string。\n",
    "6. 字符串可以用 + 运算符连接在一起，用 * 运算符重复。\n",
    "7. Python 中的字符串有两种索引方式，从左往右以 0 开始，从右往左以 -1 开始。\n",
    "8. Python中的字符串不能改变。\n",
    "9. Python 没有单独的字符类型，一个字符就是长度为 1 的字符串。\n",
    "10. 字符串的截取的语法格式如下：变量[头下标:尾下标]"
   ]
  },
  {
   "cell_type": "code",
   "execution_count": 21,
   "metadata": {},
   "outputs": [
    {
     "name": "stdout",
     "output_type": "stream",
     "text": [
      "字符串 \n",
      " 这是一个句子。 \n",
      " 这是一个段落，\n",
      "可以由多行组成\n"
     ]
    }
   ],
   "source": [
    "word = '字符串'\n",
    "sentence = \"这是一个句子。\"\n",
    "paragraph = \"\"\"这是一个段落，\n",
    "可以由多行组成\"\"\"\n",
    "print(word, '\\n', sentence, '\\n', paragraph)"
   ]
  },
  {
   "cell_type": "code",
   "execution_count": 22,
   "metadata": {},
   "outputs": [
    {
     "name": "stdout",
     "output_type": "stream",
     "text": [
      "Runoob\n",
      "Runoo\n",
      "R\n",
      "noo\n",
      "noob\n",
      "RunoobRunoob\n",
      "Runoob你好\n",
      "------------------------------\n",
      "hello\n",
      "runoob\n",
      "hello\\nrunoob\n"
     ]
    }
   ],
   "source": [
    "str='Runoob'\n",
    " \n",
    "print(str)                 # 输出字符串\n",
    "print(str[0:-1])           # 输出第一个到倒数第二个的所有字符\n",
    "print(str[0])              # 输出字符串第一个字符\n",
    "print(str[2:5])            # 输出从第三个开始到第五个的字符\n",
    "print(str[2:])             # 输出从第三个开始的后的所有字符\n",
    "print(str * 2)             # 输出字符串两次\n",
    "print(str + '你好')        # 连接字符串\n",
    " \n",
    "print('------------------------------')\n",
    " \n",
    "print('hello\\nrunoob')      # 使用反斜杠(\\)+n转义特殊字符\n",
    "print(r'hello\\nrunoob')     # 在字符串前面添加一个 r，表示原始字符串，不会发生转义"
   ]
  },
  {
   "cell_type": "markdown",
   "metadata": {},
   "source": [
    "# 空行\n",
    "1. 函数之间或类的方法之间用空行分隔，表示一段新的代码的开始。类和函数入口之间也用一行空行分隔，以突出函数入口的开始。\n",
    "\n",
    "2. 空行与代码缩进不同，空行并不是Python语法的一部分。书写时不插入空行，Python解释器运行也不会出错。但是空行的作用在于分隔两段不同功能或含义的代码，便于日后代码的维护或重构。\n",
    "\n",
    "3. 记住：空行也是程序代码的一部分。\n",
    "4. 一般方法与方法之间，建议空两行"
   ]
  },
  {
   "cell_type": "markdown",
   "metadata": {},
   "source": [
    "# 等待用户输入\n",
    "执行下面的程序在按回车键后就会等待用户输入"
   ]
  },
  {
   "cell_type": "code",
   "execution_count": 34,
   "metadata": {},
   "outputs": [
    {
     "name": "stdout",
     "output_type": "stream",
     "text": [
      "\n",
      "\n",
      "按下enter键后退出测试input\n",
      "测试input\n"
     ]
    }
   ],
   "source": [
    "a = input(\"\\n\\n按下enter键后退出\")\n",
    "print(a)"
   ]
  },
  {
   "cell_type": "markdown",
   "metadata": {},
   "source": [
    "# 同一行显示多条语句\n",
    "Python可以在同一行中使用多条语句，语句之间使用分号(;)分割，以下是一个简单的实例\n",
    "## <font color = 'red'>不建议这样做，可读性差，单行长度过长，不容易维护</font>"
   ]
  },
  {
   "cell_type": "code",
   "execution_count": 25,
   "metadata": {},
   "outputs": [
    {
     "name": "stdout",
     "output_type": "stream",
     "text": [
      "runoob\n"
     ]
    }
   ],
   "source": [
    "import sys; x = 'runoob'; sys.stdout.write(x + '\\n')"
   ]
  },
  {
   "cell_type": "markdown",
   "metadata": {},
   "source": [
    "# 多个语句构成代码组\n",
    "1. 缩进相同的一组语句构成一个代码块，我们称之代码组。\n",
    "2. 像if、while、def和class这样的复合语句，首行以关键字开始，以冒号( : )结束，该行之后的一行或多行代码构成代码组。\n",
    "3. 我们将首行及后面的代码组称为一个子句(clause)。"
   ]
  },
  {
   "cell_type": "code",
   "execution_count": 27,
   "metadata": {},
   "outputs": [
    {
     "name": "stdout",
     "output_type": "stream",
     "text": [
      "20 > 0\n"
     ]
    }
   ],
   "source": [
    "condition1 = 0 > 20\n",
    "condition2 = 20 > 0\n",
    "if condition1 : \n",
    "    print('0 > 20')\n",
    "elif condition2 : \n",
    "    print('20 > 0')\n",
    "else : \n",
    "    print('no result')"
   ]
  },
  {
   "cell_type": "markdown",
   "metadata": {},
   "source": [
    "# print输出\n",
    "print 默认输出是换行的，<font color='red'>如果要实现不换行需要在变量末尾加上 end=\"\"</font>"
   ]
  },
  {
   "cell_type": "code",
   "execution_count": 28,
   "metadata": {},
   "outputs": [
    {
     "name": "stdout",
     "output_type": "stream",
     "text": [
      "a\n",
      "b\n",
      "---------\n",
      "a b \n"
     ]
    }
   ],
   "source": [
    "x=\"a\"\n",
    "y=\"b\"\n",
    "# 换行输出\n",
    "print( x )\n",
    "print( y )\n",
    " \n",
    "print('---------')\n",
    "# 不换行输出\n",
    "print( x, end=\" \" )\n",
    "print( y, end=\" \" )\n",
    "print()"
   ]
  },
  {
   "cell_type": "markdown",
   "metadata": {},
   "source": [
    "# import 与 from...import\n",
    "1. 在 python 用 import 或者 from...import 来导入相应的模块。\n",
    "2. 将整个模块(somemodule)导入，格式为： import somemodule\n",
    "3. 从某个模块中导入某个函数,格式为： from somemodule import somefunction\n",
    "4. 从某个模块中导入多个函数,格式为： from somemodule import firstfunc, secondfunc, thirdfunc\n",
    "5. 将某个模块中的全部函数导入，格式为： from somemodule import *\n",
    "6. 对于常用的组件，如Numpy, Pandas, 一般都是用\n",
    "```\n",
    "import numpy as np\n",
    "import pandas as pd\n",
    "```\n",
    "7. 对于机器学习的一些库，因为类特别多，所以使用from...import比较多，如：\n",
    "```\n",
    "from sklearn.ensemble import RandomForestClassifier, GradientBoostingClassifier \n",
    "```"
   ]
  },
  {
   "cell_type": "markdown",
   "metadata": {},
   "source": [
    "# 命令行参数\n",
    "很多程序可以执行一些操作来查看一些基本信息，Python可以使用-h参数查看各参数帮助信息\n",
    "```\n",
    "$ python -h\n",
    "usage: python [option] ... [-c cmd | -m mod | file | -] [arg] ...\n",
    "Options and arguments (and corresponding environment variables):\n",
    "-c cmd : program passed in as string (terminates option list)\n",
    "-d     : debug output from parser (also PYTHONDEBUG=x)\n",
    "-E     : ignore environment variables (such as PYTHONPATH)\n",
    "-h     : print this help message and exit\n",
    "\n",
    "[ etc. ]\n",
    "```"
   ]
  },
  {
   "cell_type": "markdown",
   "metadata": {},
   "source": [
    "但是在代码中，如果想看某个函数的说明，可以使用help(函数名)的方式，如"
   ]
  },
  {
   "cell_type": "code",
   "execution_count": 29,
   "metadata": {},
   "outputs": [
    {
     "name": "stdout",
     "output_type": "stream",
     "text": [
      "Help on built-in function max in module builtins:\n",
      "\n",
      "max(...)\n",
      "    max(iterable, *[, default=obj, key=func]) -> value\n",
      "    max(arg1, arg2, *args, *[, key=func]) -> value\n",
      "    \n",
      "    With a single iterable argument, return its biggest item. The\n",
      "    default keyword-only argument specifies an object to return if\n",
      "    the provided iterable is empty.\n",
      "    With two or more arguments, return the largest argument.\n",
      "\n"
     ]
    }
   ],
   "source": [
    "help(max)"
   ]
  },
  {
   "cell_type": "code",
   "execution_count": 35,
   "metadata": {
    "scrolled": false
   },
   "outputs": [
    {
     "name": "stdout",
     "output_type": "stream",
     "text": [
      "Help on built-in function print in module builtins:\n",
      "\n",
      "print(...)\n",
      "    print(value, ..., sep=' ', end='\\n', file=sys.stdout, flush=False)\n",
      "    \n",
      "    Prints the values to a stream, or to sys.stdout by default.\n",
      "    Optional keyword arguments:\n",
      "    file:  a file-like object (stream); defaults to the current sys.stdout.\n",
      "    sep:   string inserted between values, default a space.\n",
      "    end:   string appended after the last value, default a newline.\n",
      "    flush: whether to forcibly flush the stream.\n",
      "\n"
     ]
    }
   ],
   "source": [
    "help(print)"
   ]
  },
  {
   "cell_type": "code",
   "execution_count": null,
   "metadata": {},
   "outputs": [],
   "source": []
  }
 ],
 "metadata": {
  "kernelspec": {
   "display_name": "Python 3",
   "language": "python",
   "name": "python3"
  },
  "language_info": {
   "codemirror_mode": {
    "name": "ipython",
    "version": 3
   },
   "file_extension": ".py",
   "mimetype": "text/x-python",
   "name": "python",
   "nbconvert_exporter": "python",
   "pygments_lexer": "ipython3",
   "version": "3.6.2"
  }
 },
 "nbformat": 4,
 "nbformat_minor": 2
}
